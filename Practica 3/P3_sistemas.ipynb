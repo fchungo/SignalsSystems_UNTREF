{
 "cells": [
  {
   "cell_type": "markdown",
   "id": "competitive-organizer",
   "metadata": {},
   "source": [
    "# UNTREF\n",
    "# SEÑALES Y SISTEMAS\n",
    "\n",
    "## Práctica 3.\n",
    "## Paso de señales por sistemas. Propiedades de sistemas. \n",
    "\n",
    "### PREPARACION PREVIA A LA PARTE EXPERIMENTAL\n"
   ]
  },
  {
   "cell_type": "markdown",
   "id": "certain-circumstances",
   "metadata": {},
   "source": [
    "1. De los sistemas que se presentan a continuación, demuestre si cada uno de ellos es: \n",
    "\n",
    "    a) Lineal o no lineal\n",
    "    \n",
    "    b) Invariante o variante con el tiempo \n",
    "    \n",
    "    c) Causal \n",
    "    \n",
    "    d) Estable \n"
   ]
  },
  {
   "cell_type": "markdown",
   "id": "processed-degree",
   "metadata": {},
   "source": [
    "**Sistema 1:** \n",
    "$y(t) = 3x(t)+5$\n",
    "\n",
    "**Sistema 2:** \n",
    "$y(t) = x(-t+0.25)$\n",
    "\n",
    "**Sistema 3:** \n",
    "$y(t) = (t-1) \\cdot x(t)$\n",
    "\n",
    "**Sistema 4:**\n",
    "$y(t)=x(t) \\cdot x(t)$          \n"
   ]
  },
  {
   "cell_type": "markdown",
   "id": "protective-jersey",
   "metadata": {},
   "source": [
    "2. Diseñe una tabla que contenga, para los 4 sistemas estudiados, las conclusiones teóricas y prácticas sobre si los sistemas son: lineales, causales e invariantes. Deje casillas en blanco para ir colocando los resultados prácticos.\n"
   ]
  },
  {
   "cell_type": "markdown",
   "id": "humanitarian-beach",
   "metadata": {},
   "source": [
    "## Introducción \n",
    "\n",
    "Existen diversas formas de definir un sistema. Una de ellas es usar la **Respuesta en frecuencia**, útil solo para sistema lineales. Por ejemplo:\n",
    "\n",
    "\\begin{equation}\n",
    "H_1(jw) = \\frac{2}{2 + jw}\n",
    "\\end{equation}\n",
    "\n",
    "\\begin{equation}\n",
    "H_2(jw) = \\frac{0,2 + jw}{(jw)^2 + 0,4jw + 16}\n",
    "\\end{equation}\n",
    "\n",
    "Para sistemas LIT también se puede caracterizar un sistema definiendo su respuesta al impulso h(t). También podemos usar una ecuación diferencial (forma implícita) como la siguiente\n",
    "\n",
    "\\begin{equation}\n",
    "\\frac{d^2 y(t)}{dt^2} + y(t) = x(t)\n",
    "\\end{equation}\n",
    "\n",
    "Otra forma de representar los sistemas es definir, con una ecuación, la relación entrada-salida (**forma explícita**), la cual usaremos en la presente práctica. Por ejemplo, para el Sistema 2: \n",
    "\\begin{equation}\n",
    "y(t)= x(-t+0,25)\n",
    "\\end{equation} \n",
    "Es decir, se toma la señal de entrada, se gira y se desplaza un tiempo de $0,25$\n",
    "\n"
   ]
  },
  {
   "cell_type": "markdown",
   "id": "fifty-welsh",
   "metadata": {},
   "source": [
    "## Parte Experimental\n",
    "\n",
    "En esta práctica haremos uso de algunas  funciones definidas anteriormente como son `desplaza` y `girodesplaza`. Usaremos un distancia temporal entre muestras `T=0.01`, lo que indica que `fs=100` (frecuencia de muestreo), para construir un vector de tiempo entre -2 y 2, en pasos de T seg."
   ]
  },
  {
   "cell_type": "code",
   "execution_count": null,
   "id": "focal-attitude",
   "metadata": {},
   "outputs": [],
   "source": [
    "T = 0.01\n",
    "fs = 1/T\n",
    "t = np.arange(-2,2+T,T)  # Vector de tiempo  entre -2 y 2 en pasos de T"
   ]
  },
  {
   "cell_type": "markdown",
   "id": "fantastic-exclusive",
   "metadata": {},
   "source": [
    "Para hacer las pruebas de las propiedades, se pueden usar sinusoides o pulsos rectangulares\n",
    "Se genera una señal `x1` y una señal `x2` (podría ser cualquier otra señal)."
   ]
  },
  {
   "cell_type": "markdown",
   "id": "french-singapore",
   "metadata": {},
   "source": [
    "### Parte 1 \n",
    "\n",
    "Verifique que se cumple la propiedad de **superposición**. Alimente con las dos señales de prueba por separado y luego con ellas sumadas; verifique, dibujando las señales involucradas, que la suma de las salidas individuales coincide con la salida del sistema cuando a la entrada se tiene la suma de las señales de prueba.\n",
    "Se obtiene $y_1$ y $y_2$, se suman $y_{t1} = y_1 + y_2$.\n",
    "Ahora se suman las señales $x_1 + x_2$ y se hacen pasar por el sistema. A la salida la llamaremos $y_{t2}$. Para un sistema lineal, se cumplirá que $y_{t1} = y_{t2}$. Una buena idea es graficar ambas señales juntas.\n",
    "Pruebe la linealidad de los 4 sistemas.\n"
   ]
  },
  {
   "cell_type": "code",
   "execution_count": null,
   "id": "polar-carbon",
   "metadata": {},
   "outputs": [],
   "source": []
  },
  {
   "cell_type": "markdown",
   "id": "accurate-pointer",
   "metadata": {},
   "source": [
    "### Parte 2\n",
    "Pruebe la invariancia temporal verificando que si estimula el sistema con una señal retardada, la salida deberá ser una versión retardada de la salida original. O lo que es lo mismo se deben hacer las dos pruebas que se ilustran abajo y las salidas deben ser iguales si el sistema es invariante en el tiempo.\n",
    "\n",
    "![](../imagenes/invariancia.png)"
   ]
  },
  {
   "cell_type": "markdown",
   "id": "hydraulic-fruit",
   "metadata": {},
   "source": [
    "Pruebe los 4 sistemas con la siguiente señal de prueba que consiste en un pulso rectangular $\\Pi(t)$ centrado en $t = 0,25 seg$ y $0,5 seg$ de ancho\n",
    "\n",
    "\\begin{equation}\n",
    "    x_1(t) = \\Pi\\bigg(\\frac{t - 0.25}{0.5}\\bigg)\n",
    "\\end{equation}\n",
    "\n",
    "y otra que sea una versión retardada de ésta en $t_0$ seg.\n",
    "\\begin{equation}\n",
    "    x_2(t) = x_1(t-t_0))\n",
    "\\end{equation}\n"
   ]
  },
  {
   "cell_type": "markdown",
   "id": "defensive-poultry",
   "metadata": {},
   "source": [
    "Se pasa $x_1$ por el sistema y se obtiene $y_1$. Se retarda $y_1$ en $t_0$ seg. Se obtiene $y_{1ret}$\n",
    "Ahora se hace pasar $x_2$ por el sistema, se obtiene $y_2$. Tenemos que verificar que $y_{1ret}=y_2$, para demostrar que el sistema es Invariante en tiempo. Una buena idea es graficar ambas señales juntas.\n"
   ]
  },
  {
   "cell_type": "markdown",
   "id": "aerial-annotation",
   "metadata": {},
   "source": [
    "### Parte 3\n",
    "\n",
    "Pruebe la causalidad de los cinco sistemas observando la respuesta a la señal $x_2(t)$ del punto anterior. Si el sistema responde antes de que la señal se inicie, el sistema es NO causal. \n",
    "Complete la tabla con respecto todos los resultados para los cuatro sistemas.\n"
   ]
  },
  {
   "cell_type": "code",
   "execution_count": null,
   "id": "rotary-bundle",
   "metadata": {},
   "outputs": [],
   "source": []
  }
 ],
 "metadata": {
  "kernelspec": {
   "display_name": "Python 3",
   "language": "python",
   "name": "python3"
  },
  "language_info": {
   "codemirror_mode": {
    "name": "ipython",
    "version": 3
   },
   "file_extension": ".py",
   "mimetype": "text/x-python",
   "name": "python",
   "nbconvert_exporter": "python",
   "pygments_lexer": "ipython3",
   "version": "3.8.0"
  }
 },
 "nbformat": 4,
 "nbformat_minor": 5
}

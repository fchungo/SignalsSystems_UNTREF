{
 "cells": [
  {
   "cell_type": "markdown",
   "id": "still-rescue",
   "metadata": {},
   "source": [
    "## Datos\n",
    "\n",
    "Se denomina **dato** a cualquier **objeto manipulable por la computadora**. Un dato puede ser un carácter leı́do de un teclado, información almacenada en un disco, un número que se encuentra en la memoria central, etc. Los distintos tipos de datos se representan en diferentes formas: por ejemplo, no se almacena internamente de la misma manera un número entero que un carácter. Aunque los lenguajes de alto nivel permiten en alguna medida ignorar la representación interna de los datos, es preciso conocer algunos conceptos mı́nimos. **A nivel de máquina todos los datos se representan utilizando una secuencia finita de bits**. La definición de un tipo de dato incluye la definición del conjunto de valores permitidos y las operaciones que se pueden llevar a cabo sobre estos valores. Cuando se utiliza un dato en un programa es preciso que esté determinado su tipo para que el **compilador** o **interpretador** sepa cómo debe tratarlo y almacenarlo. Dependiendo del lenguaje puede o no ser preciso declarar expresamente en el programa el tipo de cada dato. No todos los tipos de datos existen en todos los lenguajes de programación. Hay lenguajes más ricos que otros en este sentido [Datos y variables, 2009].\n",
    "\n",
    "### Datos basicos\n",
    "\n",
    "Los **tipos de datos básicos**, denominados **elementales** (o primitivas) son:"
   ]
  },
  {
   "cell_type": "code",
   "execution_count": null,
   "id": "modular-arrow",
   "metadata": {},
   "outputs": [],
   "source": [
    "# Números enteros (int) (2 or 4 bytes)\n",
    "5, 22, -4"
   ]
  },
  {
   "cell_type": "code",
   "execution_count": null,
   "id": "fatty-album",
   "metadata": {},
   "outputs": [],
   "source": [
    "# Números reales (float) (parte entera - parte decimal) (4 bytes)\n",
    "0.009, -31.423, 3."
   ]
  },
  {
   "cell_type": "code",
   "execution_count": null,
   "id": "backed-perspective",
   "metadata": {},
   "outputs": [],
   "source": [
    "# Lógicos (bool) (1 bit)\n",
    "True, False"
   ]
  },
  {
   "cell_type": "code",
   "execution_count": null,
   "id": "dense-winner",
   "metadata": {},
   "outputs": [],
   "source": [
    "# Caracteres (char --> ASCII) (1 byte)\n",
    "'h', '!', 'A'"
   ]
  },
  {
   "cell_type": "markdown",
   "id": "separated-candle",
   "metadata": {},
   "source": [
    "Los **tipos de datos** construidos a partir de datos elementales, se los denomina **estructura de datos**:"
   ]
  },
  {
   "cell_type": "code",
   "execution_count": null,
   "id": "victorian-juvenile",
   "metadata": {},
   "outputs": [],
   "source": [
    "# Números complejos (complex)\n",
    "2+3j, -3J"
   ]
  },
  {
   "cell_type": "markdown",
   "id": "front-rendering",
   "metadata": {},
   "source": [
    "Python trae soporte por defecto para los números complejos, dónde la parte imaginaria va a estar representada por la **letra j o J en lugar de utilizar la i** como en la notación matemática. "
   ]
  },
  {
   "cell_type": "code",
   "execution_count": null,
   "id": "statewide-marketing",
   "metadata": {},
   "outputs": [],
   "source": [
    "# Cadena de caracteres (String)\n",
    "'Esto es una cadena de caracteres', \"123ABC\""
   ]
  },
  {
   "cell_type": "markdown",
   "id": "floating-property",
   "metadata": {},
   "source": [
    "Se puede recuperar resultados pasados usando _<n>. Por ejemplo, para recuperar el resultado correspondiente a Out [7], usaríamos _7. Esta variable guarda ese valor para toda la sesión."
   ]
  },
  {
   "cell_type": "code",
   "execution_count": null,
   "id": "promotional-tonight",
   "metadata": {},
   "outputs": [],
   "source": [
    "# Para acceder al último resultado\n",
    "_"
   ]
  },
  {
   "cell_type": "code",
   "execution_count": null,
   "id": "automatic-joseph",
   "metadata": {},
   "outputs": [],
   "source": [
    "# Resultado de la línea [2]\n",
    "_2"
   ]
  },
  {
   "cell_type": "markdown",
   "id": "useful-storage",
   "metadata": {},
   "source": [
    "### Funcion type"
   ]
  },
  {
   "cell_type": "code",
   "execution_count": null,
   "id": "offshore-penalty",
   "metadata": {},
   "outputs": [],
   "source": [
    "type(42)"
   ]
  },
  {
   "cell_type": "code",
   "execution_count": null,
   "id": "funny-afghanistan",
   "metadata": {},
   "outputs": [],
   "source": [
    "type(\"Python\")"
   ]
  },
  {
   "cell_type": "code",
   "execution_count": null,
   "id": "uniform-duration",
   "metadata": {},
   "outputs": [],
   "source": [
    "type(3.14)"
   ]
  },
  {
   "cell_type": "markdown",
   "id": "objective-commonwealth",
   "metadata": {},
   "source": [
    "### Funcion help"
   ]
  },
  {
   "cell_type": "code",
   "execution_count": null,
   "id": "applicable-worthy",
   "metadata": {},
   "outputs": [],
   "source": [
    "help (10)"
   ]
  },
  {
   "cell_type": "code",
   "execution_count": null,
   "id": "pending-selection",
   "metadata": {},
   "outputs": [],
   "source": [
    "help(3.1)"
   ]
  },
  {
   "cell_type": "code",
   "execution_count": null,
   "id": "divided-wayne",
   "metadata": {},
   "outputs": [],
   "source": [
    "help(str)"
   ]
  },
  {
   "cell_type": "code",
   "execution_count": null,
   "id": "sized-spending",
   "metadata": {},
   "outputs": [],
   "source": [
    "?str"
   ]
  },
  {
   "cell_type": "code",
   "execution_count": null,
   "id": "impossible-sperm",
   "metadata": {},
   "outputs": [],
   "source": [
    "str??"
   ]
  },
  {
   "cell_type": "markdown",
   "id": "technical-skirt",
   "metadata": {},
   "source": [
    "## Operaciones entre datos\n",
    "\n",
    "Si abrimos una consola de Python, podríamos utilizarla como calculadora (siempre entre datos del mismo tipo):\n",
    "\n",
    "### Operadores aritmeticos elementales"
   ]
  },
  {
   "cell_type": "code",
   "execution_count": null,
   "id": "better-helena",
   "metadata": {},
   "outputs": [],
   "source": [
    "# Exponenciación (doble asterisco)\n",
    "10**6, 10**-6 "
   ]
  },
  {
   "cell_type": "code",
   "execution_count": null,
   "id": "insured-circle",
   "metadata": {},
   "outputs": [],
   "source": [
    "# Los enteros son virtualmente ilimitados\n",
    "x = 9 ** 100\n",
    "print(x)"
   ]
  },
  {
   "cell_type": "code",
   "execution_count": null,
   "id": "quality-trout",
   "metadata": {},
   "outputs": [],
   "source": [
    "# Suma\n",
    "12 + 123, 5.67 + 0.42"
   ]
  },
  {
   "cell_type": "code",
   "execution_count": null,
   "id": "boxed-sentence",
   "metadata": {},
   "outputs": [],
   "source": [
    "# Resta\n",
    "123 - 12, 2.13 - 12"
   ]
  },
  {
   "cell_type": "code",
   "execution_count": null,
   "id": "comfortable-complexity",
   "metadata": {},
   "outputs": [],
   "source": [
    "# Multiplicación\n",
    "123 * -12, 34 * 65"
   ]
  },
  {
   "cell_type": "code",
   "execution_count": null,
   "id": "healthy-exposure",
   "metadata": {},
   "outputs": [],
   "source": [
    "# División\n",
    "10/2"
   ]
  },
  {
   "cell_type": "markdown",
   "id": "deluxe-product",
   "metadata": {},
   "source": [
    "Al dividir números **enteros**, el resultado es **siempre decimal**, aunque sea un número entero. Cuando Python escribe un número decimal, lo escribe siempre con parte decimal, aunque sea nula."
   ]
  },
  {
   "cell_type": "markdown",
   "id": "antique-backup",
   "metadata": {},
   "source": [
    "> **Nota:** al realizar **operaciones con decimales**, los resultados pueden presentar **errores de redondeo**."
   ]
  },
  {
   "cell_type": "code",
   "execution_count": null,
   "id": "thorough-teens",
   "metadata": {},
   "outputs": [],
   "source": [
    "# Resto\n",
    "10 % 3"
   ]
  },
  {
   "cell_type": "code",
   "execution_count": null,
   "id": "legislative-first",
   "metadata": {},
   "outputs": [],
   "source": [
    "10/3"
   ]
  },
  {
   "cell_type": "markdown",
   "id": "white-rebound",
   "metadata": {},
   "source": [
    "Las **reglas de prioridad** de operaciones son las mismas que en algebra:\n",
    "\n",
    "* Exponenciaciones.\n",
    "* Multiplicaciones y divisiones.\n",
    "* Sumas y restas.\n",
    "\n",
    "Utilice paréntesis para modificar la prioridad."
   ]
  },
  {
   "cell_type": "markdown",
   "id": "daily-catalog",
   "metadata": {},
   "source": [
    "> **Nota:** hay **soporte completo de punto flotante**; operadores con operando mezclados convertirá los enteros a punto flotante:"
   ]
  },
  {
   "cell_type": "code",
   "execution_count": null,
   "id": "guided-cause",
   "metadata": {},
   "outputs": [],
   "source": [
    "4 * 3.75 - 1"
   ]
  },
  {
   "cell_type": "markdown",
   "id": "attractive-truth",
   "metadata": {},
   "source": [
    "### Operadores de comparacion"
   ]
  },
  {
   "cell_type": "code",
   "execution_count": null,
   "id": "attached-coaching",
   "metadata": {},
   "outputs": [],
   "source": [
    "'A' == 'a'  # Igual a"
   ]
  },
  {
   "cell_type": "code",
   "execution_count": null,
   "id": "respiratory-discount",
   "metadata": {},
   "outputs": [],
   "source": [
    "1 != 0  # Distinto"
   ]
  },
  {
   "cell_type": "code",
   "execution_count": null,
   "id": "sustained-chester",
   "metadata": {},
   "outputs": [],
   "source": [
    "-12 < 2  # Menor que"
   ]
  },
  {
   "cell_type": "code",
   "execution_count": null,
   "id": "advance-division",
   "metadata": {},
   "outputs": [],
   "source": [
    "31 > 1  # Mayor que"
   ]
  },
  {
   "cell_type": "code",
   "execution_count": null,
   "id": "copyrighted-cameroon",
   "metadata": {},
   "outputs": [],
   "source": [
    "21 <= 2  # Menor o igual que"
   ]
  },
  {
   "cell_type": "code",
   "execution_count": null,
   "id": "temporal-railway",
   "metadata": {},
   "outputs": [],
   "source": [
    "3 >= 1  # Mayor o igual que"
   ]
  },
  {
   "cell_type": "markdown",
   "id": "exterior-killing",
   "metadata": {},
   "source": [
    "`is, is not` identidad del objeto: útil para saber si dos variables referencian al mismo objeto."
   ]
  },
  {
   "cell_type": "markdown",
   "id": "accessible-absorption",
   "metadata": {},
   "source": [
    "### Operadores logicos"
   ]
  },
  {
   "cell_type": "code",
   "execution_count": null,
   "id": "incorrect-maintenance",
   "metadata": {},
   "outputs": [],
   "source": [
    "(6 > 10), not (6 > 10)  # Negación"
   ]
  },
  {
   "cell_type": "code",
   "execution_count": null,
   "id": "chemical-mount",
   "metadata": {},
   "outputs": [],
   "source": [
    "(6 < 10) & (10 > 6)  # Conjunción (ampersand)"
   ]
  },
  {
   "cell_type": "code",
   "execution_count": null,
   "id": "dependent-contract",
   "metadata": {},
   "outputs": [],
   "source": [
    "(6 < 10) and (10 > 6)  # Conjunción *alternativa"
   ]
  },
  {
   "cell_type": "code",
   "execution_count": null,
   "id": "incomplete-profit",
   "metadata": {},
   "outputs": [],
   "source": [
    "(0 > 5) | (0 < 5)  # Disyunción"
   ]
  },
  {
   "cell_type": "code",
   "execution_count": null,
   "id": "nominated-republic",
   "metadata": {},
   "outputs": [],
   "source": [
    "(0 > 5) or (0 < 5)  # Disyunción *alternativa"
   ]
  },
  {
   "cell_type": "markdown",
   "id": "three-beverage",
   "metadata": {},
   "source": [
    "## Funciones integradas\n",
    "\n",
    "A continuación se presenta algunas de las **funciones útiles**, que vienen **integradas en Python** (sin necesidad de importar ningún módulo), que pueden ser utilizadas con la mayoría de los datos. Estas funciones son pertenecientes a la [librería estandar](https://docs.python.org/3/library/) de Python."
   ]
  },
  {
   "cell_type": "code",
   "execution_count": null,
   "id": "meaningful-generation",
   "metadata": {},
   "outputs": [],
   "source": [
    "# Devuelve una tupla formada por el cociente y el resto de la divión \n",
    "divmod(13, 4) "
   ]
  },
  {
   "cell_type": "code",
   "execution_count": null,
   "id": "cultural-medicaid",
   "metadata": {},
   "outputs": [],
   "source": [
    "# Devuelve x elevado a y\n",
    "pow(2, 3)"
   ]
  },
  {
   "cell_type": "code",
   "execution_count": null,
   "id": "sacred-kinase",
   "metadata": {},
   "outputs": [],
   "source": [
    "# Devuelve el argumento redondeado al entero más próximo\n",
    "round(4.35)"
   ]
  },
  {
   "cell_type": "code",
   "execution_count": null,
   "id": "talented-western",
   "metadata": {},
   "outputs": [],
   "source": [
    "# Devuelve un rango de valores\n",
    "range(6)"
   ]
  },
  {
   "cell_type": "code",
   "execution_count": null,
   "id": "technical-species",
   "metadata": {},
   "outputs": [],
   "source": [
    "# Calcula el valor máximo de un conjunto de valores (numéricos o alfabéticos)\n",
    "max(4, 5, -2, 8, 3.5, -10)"
   ]
  },
  {
   "cell_type": "code",
   "execution_count": null,
   "id": "violent-convenience",
   "metadata": {},
   "outputs": [],
   "source": [
    "# Calcula la suma de un conjunto de valores, \n",
    "# debe ser un tipo de datos iterable (tupla, rango, lista, conjunto o diccionario)\n",
    "sum((1, 2, 3, 4, 5))"
   ]
  },
  {
   "cell_type": "code",
   "execution_count": null,
   "id": "pretty-candy",
   "metadata": {},
   "outputs": [],
   "source": [
    "# Devuelve la longitud de una secuencia o colección\n",
    "len([1,2,3,4,6])"
   ]
  },
  {
   "cell_type": "markdown",
   "id": "loose-sodium",
   "metadata": {},
   "source": [
    "## Modulos\n",
    "\n",
    "Para aquellas funciones que **no estan dentro de la librería estandar, se utilizan módulos, archivos Python **.py** que constan de código Python**. Un módulo puede definir funciones, clases y variables, ademas puede incluir código ejecutable. Se puede hacer referencia a cualquier archivo de Python como un módulo. Un archivo de Python llamado hello.py tiene el nombre de módulo \"\"hello\" que se puede importar a otros archivos de Python o utilizar en el intérprete de línea de comandos de Python. Estos módulos, a la vez, pueden formar parte de **paquetes**. Un paquete, **es una carpeta que contiene archivos .py**, pero para que una carpeta pueda ser considerada un paquete, debe **contener un archivo de inicio llamado __init__.py**. \n",
    "\n",
    "> **Nota:** este archivo, no necesita contener ninguna instrucción. De hecho, puede estar completamente vacío.\n",
    "\n",
    "La estructura general de un modulo es:\n",
    "\n",
    "![](estructura_modulos.jpg)\n",
    "\n",
    "### ¿Por que usar paquetes de modulos?\n",
    "\n",
    "Proveen una manera fácil de organizar los componentes de software de un sistema, utilizando el concepto de **namespaces** (en Python, un namespace, es el nombre que se ha indicado luego de la palabra `import`, es decir la ruta **namespace** del módulo)\n",
    "\n",
    "**Ventajas:**\n",
    "\n",
    "* Reutilización de código: diseño modular de software.\n",
    "* Particionamiento del namespace: agrupa nombres por funcionalidad.\n",
    "\n",
    "**Estructura de un programa en Python:**\n",
    "\n",
    "* Un archivo top-level\n",
    "* Uno o más archivos suplemetarios, conocidos como módulos\n",
    "\n",
    "Una declaración de `import`  se compone de la palabra clave `import`  junto con el nombre del módulo.\n",
    "\n",
    "Cuando importamos un módulo, lo estamos poniendo a nuestra disposición en nuestro programa actual referenciandolo a la función en notación de punto, como **[module].[function]**.\n",
    "\n",
    "\n",
    "\n",
    "Para continuar aprendiendo de modulos ir al siguiente [link](http://librosweb.es/libro/python/capitulo_3.html)."
   ]
  },
  {
   "cell_type": "code",
   "execution_count": null,
   "id": "numerical-corruption",
   "metadata": {},
   "outputs": [],
   "source": [
    "import numpy as np\n",
    "import matplotlib.pyplot as plt"
   ]
  },
  {
   "cell_type": "code",
   "execution_count": null,
   "id": "irish-sector",
   "metadata": {},
   "outputs": [],
   "source": [
    "y = np.arange(5)\n",
    "plt.plot(y)"
   ]
  },
  {
   "cell_type": "markdown",
   "id": "physical-parade",
   "metadata": {},
   "source": [
    "### Estructuras de control de flujo\n",
    "\n",
    "**Las estructuras esenciales son los bucles y los condicionales**. Estas estructuras son comunes con el resto de los lenguajes de programación existentes, también son conocidas como **sentencias**. Las estructuras de bucles es un contador que permite ejecutar varias tareas idénticas secuencialmente con la variación de diversos índices; se pueden encapsular con otros contadores y con otras sentencias. Las estructuras condicionales permite incluir variaciones en la ejecución del código según el cumplimiento de ciertas condiciones lógicas. Estas no son las únicas estructuras de programación, tan solo son las más básicas. A partir de ellas se derivan sentencias más útiles y más específicas como veremos a continuación.\n",
    "\n",
    "Para hablar de estructuras de control de flujo en Python, es imprescindible primero, hablar de **indentación**.\n",
    "\n",
    "¿Qué es la indentación? En un lenguaje de programación, **la indentación es lo que la sangría** al lenguaje escrito. No todos los lenguajes de programación, necesitan de una indentación, aunque sí, se estila implementarla, **a fin de otorgar mayor legibilidad al código**. Pero en el caso de Python, la indentación es obligatoria, ya que de ella, dependerá su estructura.\n",
    "\n",
    "> **PEP 8 - Indentado:** una indentación de 4 (cuatro) espacios en blanco, indicará que las instrucciones indentadas, forman parte de una misma estructura de control.\n",
    "\n",
    "``` python\n",
    "n = 9\n",
    "r = 1\n",
    "while n > 0:\n",
    "    r *= n\n",
    "    n -= 1\n",
    "print(r)\n",
    "```\n",
    "Ventajas del indentado:\n",
    "\n",
    "* La **estructura visual** del código refleja la **estructura real**.\n",
    "* **No más missing braces** (cerrar las estructuras, llaves en C++).\n",
    "* Uniformidad en la **estética del código**.\n",
    "#### Estructuras condicionales\n",
    "\n",
    "Las estructuras de control condicionales, son aquellas que nos **permiten evaluar si una o más condiciones se cumplen**, para decir qué acción vamos a ejecutar. "
   ]
  },
  {
   "cell_type": "markdown",
   "id": "sealed-undergraduate",
   "metadata": {},
   "source": [
    "#### Estructuras condicionales\n",
    "\n",
    "Las estructuras de control condicionales, son aquellas que nos **permiten evaluar si una o más condiciones se cumplen**, para decir qué acción vamos a ejecutar. "
   ]
  },
  {
   "cell_type": "markdown",
   "id": "ranging-morris",
   "metadata": {},
   "source": [
    "#### Estructura condicional - IF/ELIF/ELSE\n",
    "\n",
    "La evaluación de condiciones, solo puede arrojar 1 de 2 resultados: **verdadero** o **falso** (`True` o `False`). Las estructuras de control de flujo condicionales, se definen mediante el uso de tres palabras claves reservadas del lenguaje: `if` (si), `elif `(sino, si) y `else` (sino).\n",
    "\n",
    "Para describir la evaluación a realizar sobre una condición, se utilizan [operadores de comparación](11_primeros_pasos_I.ipynb/##Operadores-de-comparacion) (`==`, `!=`, `<`, `>`, entre otros). Para evaluar más de una condición simultáneamente, se utilizan operadores lógicos (`AND`, `OR`, `NOT`, entre otros).\n",
    "\n",
    "El diagrama de flujo es el siguiente:\n",
    "\n",
    "![](../imagenes/sentencia_if.png)\n",
    "\n",
    "La sintaxis de la estructura:\n",
    "\n",
    "``` python\n",
    "if condition1:\n",
    "    statement1\n",
    "elif condition2:\n",
    "    statement2\n",
    "elif condition3:\n",
    "    statement3\n",
    ".\n",
    ".\n",
    ".\n",
    "else:\n",
    "    statement4\n",
    "```"
   ]
  },
  {
   "cell_type": "code",
   "execution_count": 1,
   "id": "therapeutic-parker",
   "metadata": {},
   "outputs": [
    {
     "name": "stdout",
     "output_type": "stream",
     "text": [
      "Esperar\n"
     ]
    }
   ],
   "source": [
    "# Si el semáforo esta en verde, cruzar la calle. Sino, esperar.\n",
    "\n",
    "semaforo = \"rojo\"\n",
    "\n",
    "if semaforo == \"verde\": \n",
    "    print (\"Cruzar la calle\")\n",
    "    \n",
    "else: \n",
    "    print (\"Esperar\")"
   ]
  },
  {
   "cell_type": "markdown",
   "id": "answering-flashing",
   "metadata": {},
   "source": [
    "### Estructuras de control iterativas \n",
    "\n",
    "A diferencia de las estructuras de control condicionales, las iterativas (también llamadas cíclicas o bucles), nos **permiten ejecutar un mismo código, de manera repetida, mientras se cumpla una condición**.\n",
    "\n",
    "En Python se dispone de dos estructuras cíclicas:\n",
    "\n",
    "* El bucle `while`.\n",
    "* El bucle `for`.\n",
    "\n",
    "#### Estructura de control iterativa - While\n",
    "\n",
    "Este bucle, **se encarga de ejecutar una misma acción \"mientras que\" una determinada condición se cumpla**. Sólo debemos tener en cuenta cuando programamos, que el uso de un `while` es mucho más crítico que el uso de un `for`. Esto es porque la condición lógica que controla el bucle debe aplicarse sobre una variable interna en el bucle. Entonces es probable que si programamos mal, la variable que usamos como control nunca llegue a cumplir la condición que nos para la ejecución. También debemos tener en cuenta que los bucles controlados por una condición lógica no permiten la paralelización en el caso que tengamos varios procesadores [Nogueras, Guillem, 2007].\n",
    "\n",
    "El diagrama de flujo es el siguiente:\n",
    "\n",
    "![](../imagenes/sentencia_while.png)\n",
    "\n",
    "La sintaxis de la estructura:\n",
    "``` python\n",
    "while condition:\n",
    "    statement\n",
    "else:\n",
    "    post-code # no se ejecuta en caso de un break en el statement\n",
    "``` "
   ]
  },
  {
   "cell_type": "code",
   "execution_count": 3,
   "id": "false-issue",
   "metadata": {},
   "outputs": [
    {
     "name": "stdout",
     "output_type": "stream",
     "text": [
      "0\n",
      "1\n",
      "2\n",
      "3\n",
      "4\n"
     ]
    }
   ],
   "source": [
    "a = 0\n",
    "\n",
    "while a < 5:\n",
    "    print(a)\n",
    "    a += 1\n"
   ]
  },
  {
   "cell_type": "markdown",
   "id": "random-brooks",
   "metadata": {},
   "source": [
    "### Listas y arrays"
   ]
  },
  {
   "cell_type": "markdown",
   "id": "indian-traffic",
   "metadata": {},
   "source": [
    "### Listas\n",
    "\n",
    "Las [listas](http://docs.python.org.ar/tutorial/3/introduction.html#listas) son una estructura de datos muy versátil, la cual puede ser escrita como una lista de valores separados por coma (ítems) entre corchetes. Las listas pueden contener **datos mutables** (los cuales pueden ser modificados una vez creados) de tipos diferentes, pero usualmente los datos son del mismo tipo. Usaremos listas para poder modelar datos compuestos pero cuya cantidad y valor varían a lo largo del tiempo.\n",
    "\n",
    "![](../imagenes/listas.png)"
   ]
  },
  {
   "cell_type": "code",
   "execution_count": null,
   "id": "robust-simulation",
   "metadata": {},
   "outputs": [],
   "source": [
    "x = []  # Una lista vacía\n",
    "y = [0,1,2,3,4,5]  # Una lista de enteros\n",
    "\n",
    "# Listas heterogéneas\n",
    "s = [32, \"a\", -5, -2.349, [1,2,3], \"te\", \"crees\", \"muy\", \"lista?\"] \n",
    "\n",
    "l = [x,y]  # Lista de listas"
   ]
  },
  {
   "cell_type": "code",
   "execution_count": null,
   "id": "trained-character",
   "metadata": {},
   "outputs": [],
   "source": [
    "# Verificar las variables creadas\n",
    "s"
   ]
  },
  {
   "cell_type": "markdown",
   "id": "developed-bulgaria",
   "metadata": {},
   "source": [
    "#### Metodos de las listas\n",
    "\n",
    "Las listas en Python  tienen muchos métodos que podemos utilizar, entre todos ellos vamos a nombrar los más importantes. Para esto utilizaremos esta lista de ejemplo."
   ]
  },
  {
   "cell_type": "code",
   "execution_count": null,
   "id": "accurate-match",
   "metadata": {},
   "outputs": [],
   "source": [
    "my_list = [2, 5, 100, 1.2, 5]"
   ]
  },
  {
   "cell_type": "code",
   "execution_count": null,
   "id": "complete-rendering",
   "metadata": {},
   "outputs": [],
   "source": [
    "# Permite agregar nuevos elementos a una lista\n",
    "my_list.append(\"cuatro\")  # equivalente a x[len(x):] = [\"cuatro\"]\n",
    "my_list"
   ]
  },
  {
   "cell_type": "code",
   "execution_count": null,
   "id": "automated-break",
   "metadata": {},
   "outputs": [],
   "source": [
    "y = [5,6,7]\n",
    "my_list.append(y) # equivalente a x[len(x):] = [y]\n",
    "my_list"
   ]
  },
  {
   "cell_type": "code",
   "execution_count": null,
   "id": "cutting-sydney",
   "metadata": {},
   "outputs": [],
   "source": [
    "# Quitar un ítem de una lista dado su índice en lugar de su valor\n",
    "del my_list[0]  # equivalente a x[0:1] = []\n",
    "my_list\n",
    "\n",
    "del my_list[2:5] # equivalente a x[2:5] = []\n",
    "my_list"
   ]
  },
  {
   "cell_type": "markdown",
   "id": "maritime-method",
   "metadata": {},
   "source": [
    "#### Arrays"
   ]
  },
  {
   "cell_type": "markdown",
   "id": "senior-great",
   "metadata": {},
   "source": [
    "Numpy es la librería dedicada a manipular datos numéricos, ya sea en forma de vectores, matrices u otras estructuras.\n",
    "\n",
    "El objeto principal con el que se trabaja en numpy es un **array** de una o varias dimensiones. El mismo contiene elementos, en general de formato numérico.  Se pueden definir las siguientes características para un array de numpy:\n",
    "\n",
    "* Los elementos que lo componen son todos de un mismo tipo o formato.\n",
    "* Cuenta con una longitud, igual a la cantidad de elementos que contiene por fila; y una cantidad de ejes o dimensiones, igual a la cantidad de filas que contiene.\n",
    "* Cada elemento del array posee un índice que denota su ubicación dentro del mismo.\n",
    "\n",
    "Para utilizar Numpy en nuestro código, primero debemos importarla utilizando el comando `import numpy`.  POr convención se la importa con el alias **np** ingresando `import numpy as np`. \n",
    "\n",
    "Una vez importada la librería, podemos crear un array de datos. Para hacerlo, utilizamos el objeto `numpy.array` de la siguiente manera:"
   ]
  },
  {
   "cell_type": "code",
   "execution_count": null,
   "id": "sublime-encoding",
   "metadata": {},
   "outputs": [],
   "source": [
    "import numpy as np\n",
    "\n",
    "a = np.array([1,2,5,9])"
   ]
  },
  {
   "cell_type": "code",
   "execution_count": null,
   "id": "looking-geography",
   "metadata": {},
   "outputs": [],
   "source": [
    "# creamos el mismo array 'a' a partir de una lista\n",
    "\n",
    "lista = [1,2,5,9]\n",
    "b = np.array(lista)"
   ]
  },
  {
   "cell_type": "code",
   "execution_count": null,
   "id": "vertical-baking",
   "metadata": {},
   "outputs": [],
   "source": [
    "a,b"
   ]
  },
  {
   "cell_type": "code",
   "execution_count": null,
   "id": "essential-ocean",
   "metadata": {},
   "outputs": [],
   "source": [
    "a == b"
   ]
  },
  {
   "cell_type": "markdown",
   "id": "secure-ireland",
   "metadata": {},
   "source": [
    "### Representacion de señales\n",
    "\n",
    "Para representar señales es conveniente crear un vector tiempo sobre el cual vamos a representar la señal. Este vector (y la señal representada) consisitirán en un conjunto finito de valores. En numpy tenemos acceso a dos funciones que facilitan la creación de vectores para este propósito.\n",
    "\n",
    " * `np.linspace`\n",
    " * `np.arange`"
   ]
  },
  {
   "cell_type": "code",
   "execution_count": null,
   "id": "excessive-roommate",
   "metadata": {},
   "outputs": [],
   "source": [
    "t = np.linspace(0, 1, 100)\n",
    "t = np.arange(0, 1, 1/100)"
   ]
  },
  {
   "cell_type": "code",
   "execution_count": null,
   "id": "occasional-pantyhose",
   "metadata": {},
   "outputs": [],
   "source": [
    "y = np.cos(t*2*np.pi*3)"
   ]
  },
  {
   "cell_type": "code",
   "execution_count": null,
   "id": "alive-surveillance",
   "metadata": {},
   "outputs": [],
   "source": [
    "plt.plot(t, y)"
   ]
  },
  {
   "cell_type": "markdown",
   "id": "secure-workplace",
   "metadata": {},
   "source": [
    "### Referencias\n",
    "\n",
    " * G. Van Rossum. El tutorial de Python. PyAr http://docs.python.org.ar/tutorial/\n",
    "\n",
    " * *Numpy User Guide*, https://www.numpy.org/\n",
    "\n",
    " * Scott Shell, *An introduction to Numpy and Scipy*, 2014. \n"
   ]
  },
  {
   "cell_type": "markdown",
   "id": "proud-fleet",
   "metadata": {},
   "source": [
    "## Licencia\n",
    "\n",
    "<a rel=\"license\" href=\"http://creativecommons.org/licenses/by-sa/4.0/\"><img alt=\"Licencia de Creative Commons\" style=\"border-width:0\" src=\"https://i.creativecommons.org/l/by-sa/4.0/88x31.png\" /></a><br />Este documento se destribuye con una <a rel=\"license\" href=\"http://creativecommons.org/licenses/by-sa/4.0/\">licencia Atribución CompartirIgual 4.0 Internacional de Creative Commons</a>.\n",
    "\n",
    "© 2021. Señales y Sistemas, UNTREF. Apuntes de Python3 (CC BY-SA 4.0))"
   ]
  }
 ],
 "metadata": {
  "kernelspec": {
   "display_name": "Python 3",
   "language": "python",
   "name": "python3"
  },
  "language_info": {
   "codemirror_mode": {
    "name": "ipython",
    "version": 3
   },
   "file_extension": ".py",
   "mimetype": "text/x-python",
   "name": "python",
   "nbconvert_exporter": "python",
   "pygments_lexer": "ipython3",
   "version": "3.8.0"
  }
 },
 "nbformat": 4,
 "nbformat_minor": 5
}

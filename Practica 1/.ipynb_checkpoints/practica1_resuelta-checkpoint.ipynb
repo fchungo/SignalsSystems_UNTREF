{
 "cells": [
  {
   "cell_type": "markdown",
   "metadata": {},
   "source": [
    "# Ejercicios propuestos\n",
    "\n",
    "#### Ejercicio 1\n",
    "\n",
    "Realizar los siguientes cálculos utilizando la consola de python:\n",
    "\n",
    "* $((5^3+3/4)+\\sqrt{3})^{1/3}=5.032...$ \n",
    "\n",
    "* $\\frac{1}{\\frac{2}{(0.3)^1/3}*21}=0.0159....$"
   ]
  },
  {
   "cell_type": "code",
   "execution_count": null,
   "metadata": {},
   "outputs": [],
   "source": []
  },
  {
   "cell_type": "markdown",
   "metadata": {},
   "source": [
    "#### Ejercicio 2\n",
    "Ingresar la longitud del radio de un círculo. Calcular e imprimir:\n",
    "\n",
    "* La superficie del círculo $Sup = pi \\cdot r ^2$\n",
    "* El perímetro de la circunferencia $Per = pi \\cdot diámetro$\n",
    "* La superficie de la esfera                   $Sup = 4 \\cdot pi \\cdot r ^ 2$\n",
    "* El volumen de la esfera                     $Vol = 4/3 \\cdot pi \\cdot r ^3$"
   ]
  },
  {
   "cell_type": "code",
   "execution_count": 11,
   "metadata": {},
   "outputs": [
    {
     "name": "stdin",
     "output_type": "stream",
     "text": [
      "ingrese su edad:  32\n"
     ]
    },
    {
     "name": "stdout",
     "output_type": "stream",
     "text": [
      "Su edad es  32\n"
     ]
    }
   ],
   "source": [
    "# ayudas\n",
    "\n",
    "# importar el número pi desde numpy\n",
    "from numpy import pi\n",
    "\n",
    "# para pedir el ingresod e datos al usuario usamos input, ejemplo:\n",
    "edad = int(input(\"ingrese su edad: \"))\n",
    "print(\"Su edad es \", edad)"
   ]
  },
  {
   "cell_type": "code",
   "execution_count": 12,
   "metadata": {},
   "outputs": [
    {
     "name": "stdin",
     "output_type": "stream",
     "text": [
      "Ingrese la longuitud del radio de un circulo =  3\n"
     ]
    },
    {
     "name": "stdout",
     "output_type": "stream",
     "text": [
      "La superficie del circulo es =  28.274333882308138\n",
      "El perimetro de la circunferencia es =  18.84955592153876\n",
      "La superficie de la esfera es =  113.09733552923255\n",
      "El volumen de la esfera es =  113.09733552923254\n"
     ]
    }
   ],
   "source": [
    "from numpy import pi\n",
    "\n",
    "radio = float(input(\"Ingrese la longuitud del radio de un circulo = \"))\n",
    "\n",
    "print(\"La superficie del circulo es = \", pi*radio**2)\n",
    "print(\"El perimetro de la circunferencia es = \", pi*radio*2)\n",
    "print(\"La superficie de la esfera es = \", 4*pi*radio**2)\n",
    "print(\"El volumen de la esfera es = \", 4/3*pi*radio**3)"
   ]
  },
  {
   "cell_type": "markdown",
   "metadata": {},
   "source": [
    "#### Ejercicio 3\n",
    "\n",
    "Crear un array a partir de la siguiente función y graficarlo: \n",
    " \n",
    "$f(t) = 0.5 + cos(t) \\cdot e^{(-0,2t)}$\n",
    "\n",
    " * Usar un intervalo de $t$ entre 0 y 10\n",
    " * Imprimir la cantidad de filas y columnas del array\n",
    " * Imprimir el valor de la función en el punto $t = 0$\n",
    " * Imprimir los valores de la función para $t(i)$ con $i = (0, 2, 4)$"
   ]
  },
  {
   "cell_type": "code",
   "execution_count": 3,
   "metadata": {},
   "outputs": [],
   "source": [
    "# Ayuda:\n",
    "# importar numpy y usar la función linspace o arange para crear el vector tiempo\n",
    "# Usar np.exp para generar la parte exponencial\n",
    "\n",
    "import numpy as np\n",
    "import matplotlib.pyplot as plt"
   ]
  },
  {
   "cell_type": "code",
   "execution_count": 4,
   "metadata": {},
   "outputs": [],
   "source": [
    "# Para tener a mano el help de las funciones linspace y arange\n",
    "\n",
    "#?np.linspace\n",
    "#?np.arange"
   ]
  },
  {
   "cell_type": "code",
   "execution_count": 8,
   "metadata": {},
   "outputs": [
    {
     "data": {
      "text/plain": [
       "[<matplotlib.lines.Line2D at 0x7fabb8873fa0>]"
      ]
     },
     "execution_count": 8,
     "metadata": {},
     "output_type": "execute_result"
    },
    {
     "data": {
      "image/png": "[encoded data removed]",
      "text/plain": [
       "<Figure size 432x288 with 1 Axes>"
      ]
     },
     "metadata": {
      "needs_background": "light"
     },
     "output_type": "display_data"
    }
   ],
   "source": [
    "t = np.linspace(0,10,100)\n",
    "y = 0.5 + np.cos(t) * np.exp(-0.2*t)\n",
    "\n",
    "plt.plot(t, y)"
   ]
  },
  {
   "cell_type": "code",
   "execution_count": null,
   "metadata": {},
   "outputs": [],
   "source": []
  }
 ],
 "metadata": {
  "kernelspec": {
   "display_name": "Python 3",
   "language": "python",
   "name": "python3"
  },
  "language_info": {
   "codemirror_mode": {
    "name": "ipython",
    "version": 3
   },
   "file_extension": ".py",
   "mimetype": "text/x-python",
   "name": "python",
   "nbconvert_exporter": "python",
   "pygments_lexer": "ipython3",
   "version": "3.8.0"
  }
 },
 "nbformat": 4,
 "nbformat_minor": 4
}

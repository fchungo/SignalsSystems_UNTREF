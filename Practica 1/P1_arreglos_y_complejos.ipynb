{
 "cells": [
  {
   "cell_type": "markdown",
   "id": "fallen-singer",
   "metadata": {},
   "source": [
    "# PRACTICA 1:   SCRIPT EN SPYDER, LIBRERÍA NUMPY, NUMEROS COMPLEJOS, FUNCIONES TRIGONOMÉTRICAS Y ARREGLOS.\n",
    " \n",
    "## INTRODUCCIÓN\n",
    "\n",
    "Para hacer esta práctica, se asumirá que ha leído todo el material introductorio de Python, sintaxis básica, librerías y manejo de Jupyter Notebook. Si tiene alguna duda, puede resolverla buscando la información en los documentos anteriormente suministrados.\n",
    "\t\n",
    "## OBJETIVOS\n",
    "\n",
    "    1. Conocer los principios básicos de operación de Python.\n",
    "    2. Aprender a crear scripts usando el menú y las ventanas de Spyder.\n",
    "    3. Importar la librería NumPy. \n",
    "    4. Manejar funciones trigonométricas básicas, números complejos y funciones varias (sign).\n",
    "    5. Crear, acceder y manipular  arreglos\n",
    "    6. Entender las estructuras condicionales de control de flujo\n",
    "    7. Generar una señal sinusoidal"
   ]
  },
  {
   "cell_type": "markdown",
   "id": "hearing-personality",
   "metadata": {},
   "source": [
    "## PARTE EXPERIMENTAL\n",
    "En Spyder cree un nuevo archivo llamado `Practica_1_SyS.py`.  \n",
    "Vaya creando sectores o celdas con las instrucciones que se irán colocando en este enunciado. Usando `#%%` separa las celdas o grupos. Ejecútelas para **verificar** su *funcionamiento*.\n",
    "\n",
    "Comenzaremos importando la librería NumPy."
   ]
  },
  {
   "cell_type": "code",
   "execution_count": 2,
   "id": "charitable-motor",
   "metadata": {},
   "outputs": [],
   "source": [
    "import numpy as np   # numpy se usa para la manipulación de vectores y matrices"
   ]
  },
  {
   "cell_type": "markdown",
   "id": "collective-ladder",
   "metadata": {},
   "source": [
    "### Números complejos\n",
    "\n",
    "Se genera el número complejo $2+3j$ de 2 formas diferentes. Se pueden representar números complejos usando la letra $i$ o la letra $j$"
   ]
  },
  {
   "cell_type": "code",
   "execution_count": 4,
   "id": "earlier-matthew",
   "metadata": {},
   "outputs": [],
   "source": [
    "zc1 = 2+3j\n",
    "zc2 = complex(2,3)"
   ]
  },
  {
   "cell_type": "markdown",
   "id": "interior-announcement",
   "metadata": {},
   "source": [
    "Se imprime en pantalla la pregunta de si las 2 representaciones representan al mismo número y se plantea la comparación de las dos variable `zc1` y `zc2`."
   ]
  },
  {
   "cell_type": "code",
   "execution_count": 5,
   "id": "double-geometry",
   "metadata": {},
   "outputs": [
    {
     "name": "stdout",
     "output_type": "stream",
     "text": [
      "zc1 = zc2?  True\n"
     ]
    }
   ],
   "source": [
    "print('zc1 = zc2? ', (zc1 == zc2))"
   ]
  },
  {
   "cell_type": "markdown",
   "id": "comparable-freeze",
   "metadata": {},
   "source": [
    "Se determinanla parte real, la parte imaginaria, la magnitud, la fase (en radianes) y el complejo conjugado de `zc1`, y se almacenan en diversas variables."
   ]
  },
  {
   "cell_type": "code",
   "execution_count": 6,
   "id": "possible-centre",
   "metadata": {},
   "outputs": [],
   "source": [
    "zc1_real = np.real(zc1)\n",
    "zc1_imag = np.imag(zc1)\n",
    "zc1_abs = np.abs(zc1)\n",
    "zc1_angulo = np.angle(zc1)\n",
    "zc1_conj = np.conj(zc1)"
   ]
  },
  {
   "cell_type": "markdown",
   "id": "commercial-channels",
   "metadata": {},
   "source": [
    "Se imprimen todas esas nuevas variables"
   ]
  },
  {
   "cell_type": "code",
   "execution_count": 7,
   "id": "composite-psychology",
   "metadata": {},
   "outputs": [
    {
     "name": "stdout",
     "output_type": "stream",
     "text": [
      "(2+3j)\n",
      "parte real:  2.0\n",
      "parte imaginaria:  3.0\n",
      "valor absoluto:  3.605551275463989\n",
      "angulo en radianes:  0.982793723247329\n",
      "complejo conjugado:  (2-3j)\n"
     ]
    }
   ],
   "source": [
    "print(zc1)\n",
    "print('parte real: ', zc1_real)\n",
    "print('parte imaginaria: ', zc1_imag)\n",
    "print('valor absoluto: ', zc1_abs)\n",
    "print('angulo en radianes: ', zc1_angulo)\n",
    "print('complejo conjugado: ', zc1_conj)"
   ]
  },
  {
   "cell_type": "markdown",
   "id": "arabic-delta",
   "metadata": {},
   "source": [
    "### ARREGLOS, MATRICES, VECTORES\n",
    "\n",
    "Creamos un arreglo (matriz de 2x3) usando la función `np.array`"
   ]
  },
  {
   "cell_type": "code",
   "execution_count": 9,
   "id": "returning-effort",
   "metadata": {},
   "outputs": [],
   "source": [
    "c = np.array([[1, 5, 2],[3, 4, 8]])"
   ]
  },
  {
   "cell_type": "markdown",
   "id": "reasonable-directory",
   "metadata": {},
   "source": [
    "Se determina y almacena su traspuesta"
   ]
  },
  {
   "cell_type": "code",
   "execution_count": 10,
   "id": "explicit-messenger",
   "metadata": {},
   "outputs": [],
   "source": [
    "c_traspuesta = np.transpose(c)"
   ]
  },
  {
   "cell_type": "markdown",
   "id": "metric-listening",
   "metadata": {},
   "source": [
    "Se imprimen. El caracter `\\n` sirve para generar un salto de línea"
   ]
  },
  {
   "cell_type": "code",
   "execution_count": 11,
   "id": "sufficient-shuttle",
   "metadata": {},
   "outputs": [
    {
     "name": "stdout",
     "output_type": "stream",
     "text": [
      "matriz c: \n",
      " [[1 5 2]\n",
      " [3 4 8]]\n",
      "matriz c traspuesta: \n",
      " [[1 3]\n",
      " [5 4]\n",
      " [2 8]]\n"
     ]
    }
   ],
   "source": [
    "print('matriz c: \\n', c)\n",
    "print('matriz c traspuesta: \\n', c_traspuesta)"
   ]
  },
  {
   "cell_type": "markdown",
   "id": "complicated-observation",
   "metadata": {},
   "source": [
    "Accederemos a la segunda fila de esta matriz"
   ]
  },
  {
   "cell_type": "code",
   "execution_count": 14,
   "id": "interim-mistake",
   "metadata": {},
   "outputs": [
    {
     "name": "stdout",
     "output_type": "stream",
     "text": [
      "Accediendo a valores en la matriz:\n",
      "Segunda fila:\n",
      "[3 4 8]\n"
     ]
    }
   ],
   "source": [
    "F2 = c[1,:]\n",
    "print('Accediendo a valores en la matriz:')\n",
    "print('Segunda fila:')\n",
    "print(F2)"
   ]
  },
  {
   "cell_type": "markdown",
   "id": "shaped-matrix",
   "metadata": {},
   "source": [
    "### ARREGLOS, LISTAS, VECTORES"
   ]
  },
  {
   "cell_type": "markdown",
   "id": "unavailable-liberia",
   "metadata": {},
   "source": [
    "Creamos un array(vector) basado en una lista"
   ]
  },
  {
   "cell_type": "code",
   "execution_count": 15,
   "id": "piano-shelter",
   "metadata": {},
   "outputs": [
    {
     "name": "stdout",
     "output_type": "stream",
     "text": [
      "Array o vector: \n",
      "[1 2 3 4]\n"
     ]
    }
   ],
   "source": [
    "x = [1, 2, 3, 4]    # esto es una lista\n",
    "x = np.array([1,2,3,4])  # se crea el  array usando una lista\n",
    "print('Array o vector: ')\n",
    "print(x)"
   ]
  },
  {
   "cell_type": "markdown",
   "id": "oriented-knowing",
   "metadata": {},
   "source": [
    "Accedemos a determinados valores "
   ]
  },
  {
   "cell_type": "code",
   "execution_count": 17,
   "id": "automated-boring",
   "metadata": {},
   "outputs": [
    {
     "name": "stdout",
     "output_type": "stream",
     "text": [
      "Accediendo a valores en el vector:\n",
      "1 3 4\n"
     ]
    }
   ],
   "source": [
    "c = x[0]\n",
    "c = x[0]; d = x[2]; e = x[-1] # defino varias variables en la misma línea\n",
    "# Observe que el último término se accede con el índice -1\n",
    "# Se imprimen\n",
    "print('Accediendo a valores en el vector:')\n",
    "print(c, d, e)"
   ]
  },
  {
   "cell_type": "markdown",
   "id": "liked-speech",
   "metadata": {},
   "source": [
    "### OPERACIONES PUNTO A PUNTO\n",
    "\n",
    "Las operaciones matemáticas entre arrays son elemento a elemento por defecto"
   ]
  },
  {
   "cell_type": "code",
   "execution_count": 20,
   "id": "going-stretch",
   "metadata": {},
   "outputs": [],
   "source": [
    "a = np.array([1,2,3,4])\n",
    "b = np.array([3,4,5,6])"
   ]
  },
  {
   "cell_type": "code",
   "execution_count": 21,
   "id": "resistant-draft",
   "metadata": {},
   "outputs": [
    {
     "name": "stdout",
     "output_type": "stream",
     "text": [
      "[ 3  8 15 24]\n"
     ]
    }
   ],
   "source": [
    "print(a*b)"
   ]
  },
  {
   "cell_type": "markdown",
   "id": "disturbed-vacuum",
   "metadata": {},
   "source": [
    "### EXPONENCIACION\n",
    "\n",
    "La exponenciación puede ser elemento a elemento o matricial (y en este caso hay que cuidar las dimensiones)"
   ]
  },
  {
   "cell_type": "code",
   "execution_count": null,
   "id": "psychological-variable",
   "metadata": {},
   "outputs": [],
   "source": [
    "a = np.array([[1,2],[3,4]])\n",
    "b = a**2  # el operador de exponenciacion es **(cada elemento  al cuadrado)\n",
    "c = 2**a  # matriz con 2 elevado a c/u de los elementos de la matriz\n",
    "print('matriz a: \\n', a)\n",
    "print('matriz b: \\n', b)\n",
    "print('matriz c: \\n', c)"
   ]
  },
  {
   "cell_type": "markdown",
   "id": "hearing-translator",
   "metadata": {},
   "source": [
    "## OPERACIONES UTILES\n",
    "\n",
    "Redondeo: `round(x)`\n",
    "\n",
    "Truncado: `fix(x)`"
   ]
  },
  {
   "cell_type": "code",
   "execution_count": 23,
   "id": "japanese-focus",
   "metadata": {},
   "outputs": [
    {
     "name": "stdout",
     "output_type": "stream",
     "text": [
      "Redondeo a entero: \n",
      " [[ 2.  4.]\n",
      " [-3. -4.]]\n",
      "Redondeo con 1 decimal: \n",
      " [[ 2.1  3.6]\n",
      " [-3.2 -3.6]]\n",
      "x truncado: \n",
      " [[ 2.  3.]\n",
      " [-3. -3.]]\n"
     ]
    }
   ],
   "source": [
    "x = np.array([[2.12, 3.65],[-3.17, -3.61]])\n",
    "xr1 = np.round(x)  # redondea al entero más cercano\n",
    "xr2 = np.round(x, 1)  # redondea con 1 decimal\n",
    "print('Redondeo a entero: \\n', xr1)\n",
    "print('Redondeo con 1 decimal: \\n', xr2)\n",
    "x_trunca = np.fix(x)\n",
    "print('x truncado: \\n', x_trunca)"
   ]
  },
  {
   "cell_type": "markdown",
   "id": "expanded-prerequisite",
   "metadata": {},
   "source": [
    "Redondeo hacia arriba y hacia abajo:\n",
    "`floor(x)`, `ceil(x)`: Redondea los elementos de x a los enteros mas cercanos por debajo o por arriba"
   ]
  },
  {
   "cell_type": "code",
   "execution_count": 24,
   "id": "molecular-knitting",
   "metadata": {},
   "outputs": [
    {
     "name": "stdout",
     "output_type": "stream",
     "text": [
      "redondeo hacia abajo: \n",
      " [[ 2.  3.]\n",
      " [-4. -4.]]\n",
      "redondeo hacia arriba: \n",
      " [[ 3.  4.]\n",
      " [-3. -3.]]\n"
     ]
    }
   ],
   "source": [
    "x_floor = np.floor(x)\n",
    "x_ceil = np.ceil(x)\n",
    "\n",
    "print('redondeo hacia abajo: \\n', x_floor)\n",
    "print('redondeo hacia arriba: \\n', x_ceil)"
   ]
  },
  {
   "cell_type": "markdown",
   "id": "artistic-signature",
   "metadata": {},
   "source": [
    "Media: `np.mean(x)`\n",
    "\n",
    "Mínimo: `np.min(x)`\n",
    "\n",
    "Máximo: `np.max(x)`"
   ]
  },
  {
   "cell_type": "code",
   "execution_count": 25,
   "id": "celtic-reducing",
   "metadata": {},
   "outputs": [
    {
     "name": "stdout",
     "output_type": "stream",
     "text": [
      "Media de x:  -0.25250000000000006\n",
      "Minimo de x:  -3.61\n",
      "Maximo de x:  3.65\n"
     ]
    }
   ],
   "source": [
    "media_x = np.mean(x)\n",
    "min_x = np.min(x)\n",
    "max_x = np.max(x)\n",
    "\n",
    "print('Media de x: ', media_x)\n",
    "print('Minimo de x: ', min_x)\n",
    "print('Maximo de x: ', max_x)"
   ]
  },
  {
   "cell_type": "markdown",
   "id": "nasty-highlight",
   "metadata": {},
   "source": [
    "Sumatoria y producto de los elementos de x:\n",
    "\n",
    "`np.sum(x)`\n",
    "\n",
    "`np.prod(x)`"
   ]
  },
  {
   "cell_type": "code",
   "execution_count": 27,
   "id": "restricted-circular",
   "metadata": {},
   "outputs": [
    {
     "name": "stdout",
     "output_type": "stream",
     "text": [
      "Sumatoria columnas x:  -1.0100000000000002\n",
      "Producto columnas x:  88.55135059999999\n"
     ]
    }
   ],
   "source": [
    "sum_x = np.sum(x)\n",
    "prod_x = np.prod(x)\n",
    "\n",
    "print('Sumatoria columnas x: ', sum_x)\n",
    "print('Producto columnas x: ', prod_x)"
   ]
  },
  {
   "cell_type": "markdown",
   "id": "compressed-amazon",
   "metadata": {},
   "source": [
    "### ESTRUCTURAS DE CONTROL DE FLUJO"
   ]
  },
  {
   "cell_type": "markdown",
   "id": "similar-wagon",
   "metadata": {},
   "source": [
    "#### Estructuras condicionales\n",
    "\n",
    "Las estructuras de control condicionales, son aquellas que nos **permiten evaluar si una o más condiciones se cumplen**, para decir qué acción vamos a ejecutar. \n",
    "\n",
    "Un ejemplo clásico es solicitar un número al usuario. Luego se analiza si este es número es > o < que cero.\n",
    "\n",
    "Usaremos la instrucción `input` que permite que el usuario ingrese elementos por teclado. **Todo** lo que ingrese será visto como un caracter o una cadena de caracteres (string). Si se espera un número entero se usa la instrucción `int`, si se espera un número real (punto flotante) se usa la instrucción `float`. Finalmente, el resultado del `input` y su conversión, se almacena en la variable `x`."
   ]
  },
  {
   "cell_type": "code",
   "execution_count": 30,
   "id": "ranking-national",
   "metadata": {},
   "outputs": [
    {
     "name": "stdin",
     "output_type": "stream",
     "text": [
      "Escribe un número -.3\n"
     ]
    },
    {
     "name": "stdout",
     "output_type": "stream",
     "text": [
      "-0.3  es un número negativo\n"
     ]
    }
   ],
   "source": [
    "x = float (input('Escribe un número'))    # Se le pide al usuario que ingrese un número.\n",
    "if x > 0:  #se pregunta por una condición cuya respuesta es True o False\n",
    "    print (x, ' es un número positivo')  # esto se ejecutaría si es True (la indentación es automática)\n",
    "else:\t\t\t# esto se ejecutaría si es False \n",
    "    print (x, ' es un número negativo')"
   ]
  },
  {
   "cell_type": "markdown",
   "id": "ahead-wyoming",
   "metadata": {},
   "source": [
    "#### Estructura condicional:  IF-ELSE-ELIF\n",
    "\n",
    "Si hay más de dos posibilidades se usa `elif`, en este caso se agrega una nueva condición."
   ]
  },
  {
   "cell_type": "code",
   "execution_count": 32,
   "id": "stable-glossary",
   "metadata": {},
   "outputs": [
    {
     "name": "stdin",
     "output_type": "stream",
     "text": [
      "Escribe el número 1:  4\n",
      "Escribe el número 2:  3\n"
     ]
    },
    {
     "name": "stdout",
     "output_type": "stream",
     "text": [
      "x es mayor que y\n"
     ]
    }
   ],
   "source": [
    "x = float (input('Escribe el número 1: '))\n",
    "y = float (input('Escribe el número 2: '))\n",
    "if x < y:\n",
    "    print('x es menor que y')\n",
    "elif x > y:\n",
    "    print('x es mayor que y')\n",
    "else:\n",
    "    print('x e y son iguales')"
   ]
  },
  {
   "cell_type": "markdown",
   "id": "tribal-swing",
   "metadata": {},
   "source": [
    "### Estructuras de control iterativas \n",
    "\n",
    "A diferencia de las estructuras de control condicionales, las iterativas (también llamadas cíclicas o bucles), nos **permiten ejecutar un mismo código, de manera repetida, mientras se cumpla una condición**.\n",
    "\n",
    "En Python se dispone de dos estructuras cíclicas:\n",
    "\n",
    "* El bucle `while`.\n",
    "* El bucle `for`."
   ]
  },
  {
   "cell_type": "markdown",
   "id": "awful-contemporary",
   "metadata": {},
   "source": [
    "#### Estructura iterativa: WHILE"
   ]
  },
  {
   "cell_type": "markdown",
   "id": "false-affiliate",
   "metadata": {},
   "source": [
    "Otra estructura que controla el flujo del programa es while, que siempre va acompañada de la verificación de una condición, ya que genera un lazo que se repite hasta que deje de cumplirse la condición. En el próximo script, se calcula el factorial de un número entero x que ingresará por teclado."
   ]
  },
  {
   "cell_type": "code",
   "execution_count": 33,
   "id": "experienced-japanese",
   "metadata": {},
   "outputs": [
    {
     "name": "stdin",
     "output_type": "stream",
     "text": [
      "Escribe un número 5\n"
     ]
    },
    {
     "name": "stdout",
     "output_type": "stream",
     "text": [
      "factorial de 5.0 es = 120.0\n"
     ]
    }
   ],
   "source": [
    "x = float (input('Escribe un número'))\n",
    "x1 = x    # se almacena x en otra variable para poder usarla en el print final\n",
    "factorial=1    ## Se inicializa el resultado factorial en 1\n",
    "while x > 0:      # Hasta que x sea mayor que 0 se calcula n*(n-1) y se decrementa x\n",
    "    factorial=factorial*x\n",
    "    x= x-1\n",
    "print ('factorial de', x1,'es =', factorial)"
   ]
  },
  {
   "cell_type": "markdown",
   "id": "center-configuration",
   "metadata": {},
   "source": [
    "#### Estructura iterativa: FOR"
   ]
  },
  {
   "cell_type": "code",
   "execution_count": 38,
   "id": "focal-submission",
   "metadata": {},
   "outputs": [
    {
     "name": "stdout",
     "output_type": "stream",
     "text": [
      "1\n",
      "2\n",
      "3\n",
      "4\n",
      "9\n",
      "8\n",
      "7\n",
      "6\n",
      "[3, 6, 9, 12, 27, 24, 21, 18]\n"
     ]
    }
   ],
   "source": [
    "x = [1,2,3,4,9,8,7,6]  # esto es una lista. Se quiere ir imprimiendo cada elemento de x y multiplicar ese elemento por 3\n",
    "i = 0\n",
    "for n in x:\n",
    "    x[i] = 3*x[i] \n",
    "    i = i+1\n",
    "    print(n) \n",
    "print(x)"
   ]
  },
  {
   "cell_type": "markdown",
   "id": "impressive-commander",
   "metadata": {},
   "source": [
    "### Generación de sinusoide\n",
    "Definiremos la distancia entre muestras como $ T =0.01 seg $.\n",
    "Luego construiremos un vector de tiempo entre -1 y 1, en pasos de $T$\n",
    "Finalmente generaremos una sinusoide de amplitud 2 y frecuencia de 5 Hz y la graficaremos"
   ]
  },
  {
   "cell_type": "code",
   "execution_count": null,
   "id": "selective-pipeline",
   "metadata": {},
   "outputs": [],
   "source": [
    "import matplotlib.pyplot as plt\n",
    "\n",
    "T=0.01\n",
    "t = np.arange(-1,1+T,T)  # Se genera un vector de tiempo entre -1 y 1\n",
    "x=2*np.sin(2*np.pi*5*t); # se genera un coseno de 5 Hz\n",
    "plt.plot(t,x,\"-r\")\n",
    "plt.grid()"
   ]
  },
  {
   "cell_type": "code",
   "execution_count": null,
   "id": "hairy-swing",
   "metadata": {},
   "outputs": [],
   "source": []
  }
 ],
 "metadata": {
  "kernelspec": {
   "display_name": "Python 3",
   "language": "python",
   "name": "python3"
  },
  "language_info": {
   "codemirror_mode": {
    "name": "ipython",
    "version": 3
   },
   "file_extension": ".py",
   "mimetype": "text/x-python",
   "name": "python",
   "nbconvert_exporter": "python",
   "pygments_lexer": "ipython3",
   "version": "3.8.8"
  }
 },
 "nbformat": 4,
 "nbformat_minor": 5
}

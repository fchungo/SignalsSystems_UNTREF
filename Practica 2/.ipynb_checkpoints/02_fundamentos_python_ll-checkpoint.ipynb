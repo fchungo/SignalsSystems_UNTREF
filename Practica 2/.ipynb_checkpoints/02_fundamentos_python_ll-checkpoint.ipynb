{
 "cells": [
  {
   "cell_type": "markdown",
   "id": "essential-joshua",
   "metadata": {},
   "source": [
    "## Numpy arrays\n",
    "\n",
    "### Tipos de datos\n",
    "\n",
    "Los **argumentos** que se deben indicar para crear el array son dos: los **elementos que contendrá**, que se ingresan en forma de lista, y el **tipo de datos** que tendrá la lista. En los ejemplos anteriores no especificamos el tipo de datos, ya que éste se asigna automáticamente al crear la lista. No obstante, es recomendable indicarlo siempre ya que cada tipo de datos ocupa un espacio en memoria distinto.\n",
    "\n",
    "Los tipos de datos que podemos utilizar dentro de un array son los siguientes:\n",
    "* **Números enteros** de 8, 16, 32 y 64 bits, con signo y sin signo.\n",
    "* **Números complejos** de 64 y 128 bits.\n",
    "* **Números de punto flotante** de 16, 32, 64 y 128 bits\n",
    "* **Booleanos** (‘True’ o ‘False’), **strings**, **bytes...**\n",
    "\n",
    "En el caso del array 'a' que creamos anteriormente, el formato que se asigna automáticamente es un entero de 64 bits con signo (int64). Nos resulta conveniente utilizar un formato entero sin signo y de 8 bits, de acuerdo a los datos que contiene. El formato se especifica de la siguiente forma:\n",
    "\n"
   ]
  },
  {
   "cell_type": "code",
   "execution_count": 1,
   "id": "metropolitan-mother",
   "metadata": {},
   "outputs": [
    {
     "data": {
      "text/plain": [
       "array([1, 2, 5, 9], dtype=uint8)"
      ]
     },
     "execution_count": 1,
     "metadata": {},
     "output_type": "execute_result"
    }
   ],
   "source": [
    "import numpy as np\n",
    "\n",
    "b = np.array([1,2,5,9], dtype = np.uint8)\n",
    "\n",
    "# la consola nos muestra el array\n",
    "b"
   ]
  },
  {
   "cell_type": "markdown",
   "id": "qualified-bobby",
   "metadata": {},
   "source": [
    "b.dtype"
   ]
  },
  {
   "cell_type": "markdown",
   "id": "textile-suffering",
   "metadata": {},
   "source": [
    "### Longitud y dimensiones de un array\n",
    "\n",
    "Los ejemplos mencionados hasta ahora han sido de arrays de dimensiones $1 x N$. Podemos crear **arrays de varias dimensiones** de la siguiente manera:"
   ]
  },
  {
   "cell_type": "code",
   "execution_count": 2,
   "id": "homeless-fountain",
   "metadata": {},
   "outputs": [],
   "source": [
    "# array de dos dimensiones y longitud igual a 3\n",
    "b = np.array([[1,2,3],[3,2,1]], dtype = np.uint8)\n",
    "\n",
    "# array de tres dimensiones y longitud igual a 2\n",
    "c = np.array([[1,-1],[0,1],[-5,2]])"
   ]
  },
  {
   "cell_type": "markdown",
   "id": "great-interim",
   "metadata": {},
   "source": [
    "La **longitud** representa la cantidad de elementos que posee el array. Su valor, y el de las dimensiones de un array, se pueden obtener de la siguiente manera: "
   ]
  },
  {
   "cell_type": "code",
   "execution_count": 3,
   "id": "outdoor-rally",
   "metadata": {},
   "outputs": [
    {
     "name": "stdout",
     "output_type": "stream",
     "text": [
      "numero de filas:  2 \n",
      "numero de columnas:  3\n",
      "longitud del array:  6\n"
     ]
    }
   ],
   "source": [
    "# devuelve la forma de un array, de la siguiente forma (n° de filas, n° de columnas)\n",
    "(dim1, dim2) = b.shape\n",
    "\n",
    "#longitud del array\n",
    "longitud = b.size\n",
    "\n",
    "print('numero de filas: ', dim1, '\\nnumero de columnas: ', dim2)\n",
    "print('longitud del array: ', longitud)"
   ]
  },
  {
   "cell_type": "markdown",
   "id": "selected-bride",
   "metadata": {},
   "source": [
    "## Indizado en arrays\n",
    "\n",
    "Los **índices** se utilizan para indicar la posición de cada elemento de un array. De esta manera, podemos acceder al valor de una posición específica o extraer el valor de un grupo de elementos. Cada elemento posee una posición $[i,j]$, donde $i$ representa el número de fila y $j$ representa el número  de columna en que se ubica."
   ]
  },
  {
   "cell_type": "code",
   "execution_count": 4,
   "id": "desirable-maldives",
   "metadata": {},
   "outputs": [
    {
     "name": "stdout",
     "output_type": "stream",
     "text": [
      "1\n",
      "-5\n"
     ]
    }
   ],
   "source": [
    "# devuelve el elemento de la posición [1,2] del array 'a', igual a 2.\n",
    "print(b[1,2])\n",
    "\n",
    "# devuelve el elemento de la posición [2,0] del array 'b', igual a -5.\n",
    "print(c[2,0])\n"
   ]
  },
  {
   "cell_type": "markdown",
   "id": "pending-occurrence",
   "metadata": {},
   "source": [
    "Es importante tener en cuenta que los índices que se asignan se inician desde 0, por lo que si tengo 4 elementos, sus índices irán del rango de 0 a 3.\n",
    "Podemos **desplazarnos** dentro de una array, y **seleccionar** un rango de elementos utilizando la notación *[i: j: k]*, donde 'i' representa el índice a partir del cual nos desplazamos, 'j' es el índice en el cual nos detenemos y 'k' es el paso con el cual nos desplazamos a los elementos subsiguientes. "
   ]
  },
  {
   "cell_type": "code",
   "execution_count": 5,
   "id": "addressed-borough",
   "metadata": {},
   "outputs": [
    {
     "name": "stdout",
     "output_type": "stream",
     "text": [
      "[0. 1. 2. 3.]\n",
      "[0.  0.5 1.  1.5 2.  2.5 3.  3.5]\n",
      "[2.5 3.  3.5 4. ]\n",
      "[3.5 3.  2.5 2.  1.5]\n",
      "[1.5 2.  2.5 3.  3.5 4.  4.5]\n",
      "[1.5 3.  4.5]\n",
      "[0. 1. 2.]\n"
     ]
    }
   ],
   "source": [
    "s = [0, 0.5, 1, 1.5, 2, 2.5, 3, 3.5, 4, 4.5] \n",
    "sec = np.array(s, dtype = np.float16)\n",
    "\n",
    "# desplazamiento a partir del 1° elemento, hasta el 8° (no inclusive), \n",
    "# en pasos de cada 2 elementos\n",
    "print (sec[0:8:2])\n",
    "\n",
    "# desplazamiento entre las mismas posiciones en pasos de a 1\n",
    "print (sec[:8])\n",
    "\n",
    "# desplazamiento desde la posición n-5 hasta la posición 9, siendo n la cantidad de elementos.\n",
    "print (sec[-5:9])\n",
    "\n",
    "# desplazamiento desde la posición 7 hasta la posición n-8, en pasos de 1 hacia atrás\n",
    "print (sec[7:-8:-1])\n",
    "\n",
    "# desplazamiento desde la posición 4 hasta el final del array\n",
    "print (sec[3:])\n",
    "\n",
    "# desplazamiento desde la posición 4 hasta el final del array en pasos de a tres\n",
    "print (sec[3::3])\n",
    "\n",
    "# desplazamiento desde el comienzo hasta la posición 6 en pasos de a 2\n",
    "print (sec[:6:2])"
   ]
  },
  {
   "cell_type": "markdown",
   "id": "polyphonic-slovakia",
   "metadata": {},
   "source": [
    "Como se puede ver en el ejemplo, tenemos varias opciones para desplazarnos de distintas maneras. Es posible ir hacia adelante, atrás e indicar las posiciones inicial y final con respecto a la longitud del array. Notemos que el elemento $j$, que indica el fin del desplazamiento, no se incluye en el resultado. Es decir, el resultado nos arroja los **elementos desde $i$ hasta $j-1$**.\n",
    "\n",
    "Para el caso de **matrices**, el desplazamiento es similar, contando con algunas opciones adicionales. Veamos algunos casos."
   ]
  },
  {
   "cell_type": "code",
   "execution_count": 6,
   "id": "given-netherlands",
   "metadata": {},
   "outputs": [
    {
     "name": "stdout",
     "output_type": "stream",
     "text": [
      "[[0 1 1]\n",
      " [2 3 5]] \n",
      "\n",
      "[[0 1]\n",
      " [2 3]] \n",
      "\n",
      "[ 8 13] \n",
      "\n",
      "[[0 1 1]\n",
      " [2 3 5]] \n",
      "\n",
      "[ 1  3 13]\n"
     ]
    }
   ],
   "source": [
    "# definimos la misma secuencia, pero en forma de matriz de 3x3\n",
    "fibo_mtx = np.array([[0,1,1],[2,3,5],[8,13,21]], dtype = np.uint8)\n",
    "\n",
    "# el desplazamiento es ahora entre dimensiones, para ver las dos primeras (filas 0 y 1):\n",
    "print(fibo_mtx[0:2], \"\\n\")\n",
    "\n",
    "# veo elementos de la submatriz de 2x2 (primeras dos filas y dos columnas):\n",
    "print(fibo_mtx[0:2,0:2], \"\\n\")\n",
    "\n",
    "# desplazamiento entre los dos primeros elementos de la 3° fila \n",
    "print(fibo_mtx[2,0:2], \"\\n\")\n",
    "\n",
    "# desplazamiento entre filas:\n",
    "print(fibo_mtx[0:2,0::], \"\\n\")\n",
    "\n",
    "# desplazamiento entre los elementos de la 2° columna \n",
    "print(fibo_mtx[...,1])"
   ]
  },
  {
   "cell_type": "markdown",
   "id": "raised-buying",
   "metadata": {},
   "source": [
    "La notación *[i , j, k]* sirve para desplazarnos entre filas de una matriz. Por otra parte, podemos acceder a todos los elementos de una columna o fila con la notación *[..., x]* o *[x, ...]* respectivamente, siendo *x* el índice de la columna o fila en la que nos desplazamos.\n",
    "\n",
    "> **Nota:** Numpy también cuenta con el objeto matrix, que es una subclase del objeto array. La ventaja de usar este objeto es que las operaciones matemáticas son matriciales por defecto, y en un array se hacen elemento a elemento (vamos a este tema en la siguiente sección). A fines prácticos, el array también se puede implementar como matriz, teniendo en consideración lo mencionado anteriormente."
   ]
  },
  {
   "cell_type": "markdown",
   "id": "august-wagner",
   "metadata": {},
   "source": [
    "# Broadcasting\n",
    "\n",
    "Sólo es posible operar entre arrays bajo una de las siguientes condiciones:\n",
    " * Ambos arrays tienen $m$ x $n$ dimensiones\n",
    " * Un array tiene $1$ x $n$ dimensiones y el otro tiene $m$ x $n$\n",
    "\n",
    "En el segundo caso, la operación entre arrays se realiza igualmente, aunque no coincidan en una de sus dimensiones. Mediante el broadcasting, el array más pequeño se replica $m$ veces para poder operar con el más grande. El término alude a cómo Numpy realiza las operaciones con arrays. En español, se podría traducir como 'expansión' ya que describe lo que sucede al operar entre arrays de distintos tamaños, donde **el array más pequeño se expande a lo largo del array más grande** para poder realizar la operación. Esto se hace automáticamente y puede ser aprovechado para realizar operaciones en pocos pasos, sin necesidad de aplicar iteraciones."
   ]
  },
  {
   "cell_type": "code",
   "execution_count": 7,
   "id": "similar-government",
   "metadata": {},
   "outputs": [
    {
     "data": {
      "text/plain": [
       "(array([1, 2, 3, 4], dtype=int8), array([ 0,  5, 10], dtype=int8))"
      ]
     },
     "execution_count": 7,
     "metadata": {},
     "output_type": "execute_result"
    }
   ],
   "source": [
    "# Veamos en detalle cómo funciona el broadcasting\n",
    "\n",
    "# partimos de estos dos vectores\n",
    "t = np.array([1,2,3,4], dtype = np.int8)\n",
    "u = np.array([0,5,10], dtype = np.int8)\n",
    "\n",
    "t.shape, u.shape\n",
    "t, u"
   ]
  },
  {
   "cell_type": "code",
   "execution_count": 8,
   "id": "wired-bangkok",
   "metadata": {},
   "outputs": [
    {
     "ename": "ValueError",
     "evalue": "operands could not be broadcast together with shapes (4,) (3,) ",
     "output_type": "error",
     "traceback": [
      "\u001b[0;31m---------------------------------------------------------------------------\u001b[0m",
      "\u001b[0;31mValueError\u001b[0m                                Traceback (most recent call last)",
      "\u001b[0;32m<ipython-input-8-449f4ade2cf0>\u001b[0m in \u001b[0;36m<module>\u001b[0;34m\u001b[0m\n\u001b[0;32m----> 1\u001b[0;31m \u001b[0mt\u001b[0m \u001b[0;34m+\u001b[0m \u001b[0mu\u001b[0m\u001b[0;34m\u001b[0m\u001b[0;34m\u001b[0m\u001b[0m\n\u001b[0m",
      "\u001b[0;31mValueError\u001b[0m: operands could not be broadcast together with shapes (4,) (3,) "
     ]
    }
   ],
   "source": [
    "t + u"
   ]
  },
  {
   "cell_type": "markdown",
   "id": "thrown-reflection",
   "metadata": {},
   "source": [
    "En el ejemplo, las longitudes de a y b son distintas. A pesar de que el comando `shape` nos muestra sólo una de las longitudes, podemos trabajar considerando que son de la forma (4,1) y (3,1). Vemos que la primer longitud de ambos es distinta (4 y 3), mientras que la segunda longitud es igual (1 y 1). Ninguna operación puede hacerse bajo estas condiciones. Sin embargo, podemos manipular la forma de ellos para que sea posible operar. Si aplicamos `reshape` a 'u' para que sea de la forma (1,3), sus longitudes serán compatibles. Por un lado tendremos un array de la forma $4$ x $1$ y por el otro uno de la forma $1$ x $3$. Todavía son distintas pero sucede que es posible operar por haber adecuado la forma de uno de los vectores. Ahora vemos lo siguiente:\n",
    "* 'u' tiene $1$ columna, 't' tiene $4$ columnas --> 'u' se expande para tener 4 columnas\n",
    "* 'u' tiene $3$ filas, 't' tiene $1$ fila --> 'v' se expande para tener tres filas\n"
   ]
  },
  {
   "cell_type": "code",
   "execution_count": 9,
   "id": "addressed-attendance",
   "metadata": {},
   "outputs": [
    {
     "name": "stdout",
     "output_type": "stream",
     "text": [
      "[[ 0]\n",
      " [ 5]\n",
      " [10]]\n"
     ]
    }
   ],
   "source": [
    "# cambiamos la forma de 'u' para poder operar\n",
    "u = u.reshape(3,1)\n",
    "print(u)"
   ]
  },
  {
   "cell_type": "code",
   "execution_count": 10,
   "id": "fifteen-activation",
   "metadata": {},
   "outputs": [
    {
     "data": {
      "text/plain": [
       "array([[ 1,  2,  3,  4],\n",
       "       [ 6,  7,  8,  9],\n",
       "       [11, 12, 13, 14]], dtype=int8)"
      ]
     },
     "execution_count": 10,
     "metadata": {},
     "output_type": "execute_result"
    }
   ],
   "source": [
    "t + u"
   ]
  },
  {
   "cell_type": "markdown",
   "id": "adolescent-eclipse",
   "metadata": {},
   "source": [
    "Lo anterior es equivalente a realizar la siguiente operación entre arrays de iguales dimensiones:"
   ]
  },
  {
   "cell_type": "code",
   "execution_count": 11,
   "id": "saved-beast",
   "metadata": {},
   "outputs": [],
   "source": [
    "t2 = np.array([[1,2,3,4],[1,2,3,4],[1,2,3,4]], dtype=np.int8)\n",
    "u2 = np.array([[0,0,0,0],[5,5,5,5],[10,10,10,10]], dtype=np.int8)"
   ]
  },
  {
   "cell_type": "code",
   "execution_count": 12,
   "id": "grave-dividend",
   "metadata": {},
   "outputs": [
    {
     "data": {
      "text/plain": [
       "array([[ 1,  2,  3,  4],\n",
       "       [ 6,  7,  8,  9],\n",
       "       [11, 12, 13, 14]], dtype=int8)"
      ]
     },
     "execution_count": 12,
     "metadata": {},
     "output_type": "execute_result"
    }
   ],
   "source": [
    "t2 + u2"
   ]
  },
  {
   "cell_type": "markdown",
   "id": "binary-index",
   "metadata": {},
   "source": [
    "## Otras formas de crear arrays\n",
    "\n",
    "Numpy provee funciones para crear ciertos tipos de arrays de común uso. Veamos algunos casos:"
   ]
  },
  {
   "cell_type": "code",
   "execution_count": 13,
   "id": "solved-rhythm",
   "metadata": {},
   "outputs": [
    {
     "name": "stdout",
     "output_type": "stream",
     "text": [
      "[[1 1 1 1 1 1]\n",
      " [1 1 1 1 1 1]] \n",
      "\n",
      "[[0 0 0]\n",
      " [0 0 0]\n",
      " [0 0 0]] \n",
      "\n",
      "[0 1 2 3 4 5 6 7 8 9] \n",
      "\n",
      "[0.   1.25 2.5  3.75 5.  ] \n",
      "\n"
     ]
    }
   ],
   "source": [
    "# creamos un array de unos\n",
    "array_unos = np.ones((2,6), dtype = np.uint8)\n",
    "\n",
    "# creamos un array de ceros\n",
    "array_ceros = np.zeros((3,3), dtype = np.uint8)\n",
    "\n",
    "# creamos una secuencia creciente de números\n",
    "sec_nros = np.arange(10, dtype = np.uint8)\n",
    "\n",
    "# otra secuencia de números\n",
    "otra_sec_nros = np.linspace(0,5,5, dtype=np.float16)\n",
    "\n",
    "print(array_unos, \"\\n\") \n",
    "print(array_ceros, \"\\n\")\n",
    "print(sec_nros, \"\\n\")\n",
    "print(otra_sec_nros, \"\\n\")"
   ]
  },
  {
   "cell_type": "markdown",
   "id": "appointed-belly",
   "metadata": {},
   "source": [
    "Veamos algunas formas de crear secuencias aleatorias:"
   ]
  },
  {
   "cell_type": "code",
   "execution_count": 14,
   "id": "mobile-contact",
   "metadata": {},
   "outputs": [
    {
     "name": "stdout",
     "output_type": "stream",
     "text": [
      "[ 88 -37  33  -7 -57 -59  79 -94]\n"
     ]
    }
   ],
   "source": [
    "# randint = enteros aleatorios - se especifica el rango de valores\n",
    "\n",
    "rand_sec = np.random.randint(-100, 100, 8, dtype=np.int8)\n",
    "print(rand_sec)"
   ]
  },
  {
   "cell_type": "code",
   "execution_count": 15,
   "id": "moving-extra",
   "metadata": {},
   "outputs": [
    {
     "name": "stdout",
     "output_type": "stream",
     "text": [
      "[[0.30969422 0.70287528 0.60202102]\n",
      " [0.81748186 0.53348233 0.85071785]]\n"
     ]
    }
   ],
   "source": [
    "# rand = array con valores aleatorios entre 0 y 1 - se especifican las dimensiones y \n",
    "# longitud del array\n",
    "\n",
    "rand_sec = np.random.rand(2,3)\n",
    "print(rand_sec)"
   ]
  },
  {
   "cell_type": "code",
   "execution_count": 16,
   "id": "athletic-excess",
   "metadata": {},
   "outputs": [
    {
     "name": "stdout",
     "output_type": "stream",
     "text": [
      "[0.95112166 0.17795099 0.36370031 0.62058227 0.56775821]\n"
     ]
    }
   ],
   "source": [
    "# ranf = floats aleatorios - se especifica la longitud\n",
    "\n",
    "rand_sec = np.random.ranf(5)\n",
    "print(rand_sec)"
   ]
  },
  {
   "cell_type": "markdown",
   "id": "spanish-looking",
   "metadata": {},
   "source": [
    "## Aplicando funciones matematicas\n",
    "\n",
    "Numpy dispone de varias funciones matemáticas para aplicar sobre un simple escalar o sobre un array. La lista completa de funciones matemáticas que provee Numpy puede verse haciendo [clic acá](https://docs.scipy.org/doc/numpy/reference/routines.math.html#trigonometric-functions).\n",
    "\n",
    "Veamos un ejemplo:"
   ]
  },
  {
   "cell_type": "code",
   "execution_count": 17,
   "id": "precious-walter",
   "metadata": {},
   "outputs": [],
   "source": [
    "# multiplico una array por el escalar pi.\n",
    "x = np.linspace(0., 2., 20, dtype = np.float16)*np.pi\n",
    "\n",
    "# funciones seno y coseno\n",
    "f_seno = np.sin(x)\n",
    "f_coseno = np.cos(x)\n",
    "\n",
    "# redondeo los valores del coseno \n",
    "f_coseno_red = np.around(f_coseno, 1)\n"
   ]
  },
  {
   "cell_type": "code",
   "execution_count": 18,
   "id": "saving-childhood",
   "metadata": {},
   "outputs": [
    {
     "data": {
      "text/plain": [
       "<matplotlib.legend.Legend at 0x7fccbff87910>"
      ]
     },
     "execution_count": 18,
     "metadata": {},
     "output_type": "execute_result"
    },
    {
     "data": {
      "image/png": "[encoded data removed]",
      "text/plain": [
       "<Figure size 432x288 with 1 Axes>"
      ]
     },
     "metadata": {
      "needs_background": "light"
     },
     "output_type": "display_data"
    }
   ],
   "source": [
    "%matplotlib inline\n",
    "import matplotlib.pyplot as plt\n",
    "\n",
    "plt.plot(x, f_coseno, label='coseno')\n",
    "plt.plot(x, f_seno, label='seno')\n",
    "plt.plot(x, f_coseno_red, label='coseno_red')\n",
    "plt.legend()"
   ]
  },
  {
   "cell_type": "markdown",
   "id": "functional-aurora",
   "metadata": {},
   "source": [
    "Entonces, podemos crear arrays para representar funciones matemáticas conocidas. Primero creamos un array para definir una serie de puntos en el dominio de la función y luego aplicamos la función sobre estos puntos.\n",
    "\n",
    "Una de las funciones que utilizamos fue *linspace*. Es una función práctica para crear una representación de una función o un conjunto de datos. En este caso, con *x* tenemos representados los puntos en el dominio del tiempo, y aplicando la función sobre esos puntos creamos una array que representa a la misma."
   ]
  },
  {
   "cell_type": "markdown",
   "id": "derived-semester",
   "metadata": {},
   "source": [
    "## Funciones definidas por el usuario\n",
    "\n",
    "Una función, es la forma de **agrupar expresiones y sentencias** que realicen determinadas acciones, pero que éstas, solo **se ejecuten cuando son llamadas**. Es decir, que al colocar un algoritmo dentro de una función y se corre el archivo, el algoritmo no será ejecutado si no se ha hecho una referencia a la función que lo contiene.\n",
    "En definitiva lo más importante para programar, y no solo en Python, es saber organizar el código en piezas más pequeñas que hagan tareas independientes y combinarlas entre sí. Las funciones son el primer nivel de organización del código: reciben unas entradas, las procesan y devuelven unas salidas.\n",
    "\n",
    "![](../imagenes/blackbox.jpg)\n",
    "\n",
    "Las funciones tienen un gran potencial, para conocer [más detalles](http://librosweb.es/libro/python/capitulo_4.html)."
   ]
  },
  {
   "cell_type": "markdown",
   "id": "ecological-scroll",
   "metadata": {},
   "source": [
    "### Definicion de funciones\n",
    "\n",
    "Lo vemos con un ejemplo concreto:"
   ]
  },
  {
   "cell_type": "code",
   "execution_count": 19,
   "id": "prepared-tourist",
   "metadata": {},
   "outputs": [],
   "source": [
    "# -*- coding: utf-8 -*-\n",
    "\n",
    "def fib(n):\n",
    "    \"\"\" Escribe la serie de Fibonacci hasta n. \"\"\"\n",
    "    \n",
    "    a, b = 0, 1  # asignacion multiple\n",
    "    while a < n:\n",
    "        print (a, end = ' ') # es para imprimirlos seguidos y no uno debajo del otro.\n",
    "        a, b = b, a + b"
   ]
  },
  {
   "cell_type": "code",
   "execution_count": 20,
   "id": "identical-transsexual",
   "metadata": {},
   "outputs": [
    {
     "name": "stdout",
     "output_type": "stream",
     "text": [
      "Object `fib(n)` not found.\n"
     ]
    }
   ],
   "source": [
    "?fib(n)"
   ]
  },
  {
   "cell_type": "code",
   "execution_count": 21,
   "id": "existing-working",
   "metadata": {},
   "outputs": [
    {
     "name": "stdout",
     "output_type": "stream",
     "text": [
      "0 1 1 2 3 5 8 13 21 34 55 89 144 233 377 610 987 1597 "
     ]
    }
   ],
   "source": [
    "# Invocamos la función definida.    \n",
    "fib(2000)"
   ]
  },
  {
   "cell_type": "markdown",
   "id": "consistent-blood",
   "metadata": {},
   "source": [
    "La palabra reservada `def` se usa para **definir funciones**. Debe seguirle el nombre de la función y la **lista de argumentos entre paréntesis**. Las sentencias que forman el cuerpo de la función empiezan en la línea siguiente, y deben estar con sangría. **La primer sentencia** del cuerpo de la función puede ser opcionalmente una cadena de texto literal (utilizar `\"\"\"`, en lugar de `#`); esta es la cadena de texto de documentación de la función, o **docstring**. Es una buena práctica, no solo documentar las funciones, sino hacerlo con un estilo único y estandarizado. Una referencia respaldada en el ecosistema científico es el estilo de documentación de [`NumPy`](https://numpydoc.readthedocs.io/en/latest/format.html#docstring-standard)"
   ]
  },
  {
   "cell_type": "markdown",
   "id": "enabling-tractor",
   "metadata": {},
   "source": [
    "### Retorno - return\n",
    "\n",
    "Si lo que buscamos es escribir una función que **retorne** una lista con los números de la serie de Fibonacci en lugar de imprimirlos, podemos pensar en el siguiente ejemplo para completar:"
   ]
  },
  {
   "cell_type": "code",
   "execution_count": null,
   "id": "natural-invention",
   "metadata": {},
   "outputs": [],
   "source": [
    "# -*- coding: utf-8 -*-\n",
    "\n",
    "def fib2(n):\n",
    "    \"\"\"Devuelve una lista conteniendo la serie de Fibonacci hasta n.\"\"\"\n",
    "    \n",
    "    resultado  # inicializo la lista completar! \n",
    "    a, b = 0, 1  # asignacion multiple\n",
    "    while a < n:\n",
    "        resultado.  # completar! \n",
    "        a, b =  # completar! \n",
    "    return # completar! \n",
    "\n",
    "# Invocamos la función definida.    \n",
    "fib2000 = fib2(2000)\n",
    "type(fib2000)"
   ]
  },
  {
   "cell_type": "markdown",
   "id": "prescription-daniel",
   "metadata": {},
   "source": [
    "### Scope\n",
    "\n",
    "Es importante resaltar que **las variables que se crean dentro de las funciones no son accesibles una vez que termina la ejecución de la función**. En cambio, la función si que puede acceder a cosas que se han definido fuera de ella. No obstantes, esto último no constituye una buena práctica de cara a la reproducibilidad, mantenibilidad y testeo de la función. "
   ]
  },
  {
   "cell_type": "markdown",
   "id": "sacred-gambling",
   "metadata": {},
   "source": [
    "### Argumentos\n",
    "\n",
    "También es posible definir funciones con un número variable de argumentos. Hay tres formas que pueden ser combinadas:\n",
    "\n",
    "* Argumentos con valores por omisión.\n",
    "* Palabras claves como argumentos.\n",
    "* Listas de argumentos arbitrarios."
   ]
  },
  {
   "cell_type": "markdown",
   "id": "subsequent-commissioner",
   "metadata": {},
   "source": [
    "#### Argumentos con valores por omision\n",
    "\n",
    "La forma más útil es especificar un valor por omisión para uno o más argumentos. Esto crea una función que puede ser llamada con menos argumentos que los que permite. Por ejemplo:"
   ]
  },
  {
   "cell_type": "code",
   "execution_count": 22,
   "id": "sonic-german",
   "metadata": {},
   "outputs": [],
   "source": [
    "def pedir_confirmacion(prompt, reintentos=4, recordatorio=\"Por favor, intente nuevamente!\"):\n",
    "    while True:\n",
    "        ok = input(prompt)\n",
    "        if ok in (\"s\", \"S\", \"si\", \"Si\", \"SI\", \"sI\"):  # contemplando todos los casos, \"in\" palabra resevada para probar si una secuencia contiene o no un determinado valor.\n",
    "            return True\n",
    "        if ok in (\"n\", \"N\", \"no\", \"No\", \"NO\", \"nO\"):  # contemplando todos los casos\n",
    "            return False\n",
    "        reintentos -= 1\n",
    "        if reintentos < 0:\n",
    "            raise ValueError(\"respuesta de usuario inválida\")\n",
    "        print (recordatorio)"
   ]
  },
  {
   "cell_type": "code",
   "execution_count": null,
   "id": "harmful-belle",
   "metadata": {},
   "outputs": [],
   "source": [
    "# pasando solo el argumento obligatorio\n",
    "\n",
    "pedir_confirmacion(\"¿Realmente queres salir?\")"
   ]
  },
  {
   "cell_type": "code",
   "execution_count": null,
   "id": "vanilla-frame",
   "metadata": {},
   "outputs": [],
   "source": [
    "# pasando uno de los argumento opcionales\n",
    "\n",
    "pedir_confirmacion(\"¿Sobreescribir el archivo?\", 2)"
   ]
  },
  {
   "cell_type": "code",
   "execution_count": null,
   "id": "after-hello",
   "metadata": {},
   "outputs": [],
   "source": [
    "# pasando todos los argumentos\n",
    "\n",
    "pedir_confirmacion(\"¿Sobreescribir el archivo?\", 2, \"Vamos, solo si o no!\")"
   ]
  },
  {
   "cell_type": "markdown",
   "id": "aware-atlanta",
   "metadata": {},
   "source": [
    "#### Palabras claves como argumentos\n",
    "\n",
    "Las funciones también puede ser llamadas usando argumentos con palabras claves (o argumentos nombrados) de la forma **keyword = value**. Por ejemplo, la siguiente función:"
   ]
  },
  {
   "cell_type": "code",
   "execution_count": 23,
   "id": "chubby-playlist",
   "metadata": {},
   "outputs": [],
   "source": [
    "def loro(tension, estado='muerto', accion='explotar', tipo='Azul Nordico'):\n",
    "    print(\"-- Este loro no va a\", accion, end=' ')\n",
    "    print(\"si le aplicás\", tension, \"voltios.\")\n",
    "    print(\"-- Gran plumaje tiene el\", tipo)\n",
    "    print(\"-- Está\", estado, \"!\")"
   ]
  },
  {
   "cell_type": "markdown",
   "id": "running-joining",
   "metadata": {},
   "source": [
    "Acepta un argumento obligatorio (tension) y tres argumentos opcionales (estado, accion, y tipo). Esta función puede llamarse de cualquiera de las siguientes maneras:"
   ]
  },
  {
   "cell_type": "code",
   "execution_count": 24,
   "id": "likely-stations",
   "metadata": {},
   "outputs": [
    {
     "name": "stdout",
     "output_type": "stream",
     "text": [
      "-- Este loro no va a explotar si le aplicás 1000 voltios.\n",
      "-- Gran plumaje tiene el Azul Nordico\n",
      "-- Está muerto !\n"
     ]
    }
   ],
   "source": [
    "loro(1000)  # 1 argumento posicional"
   ]
  },
  {
   "cell_type": "code",
   "execution_count": 25,
   "id": "optical-marketplace",
   "metadata": {},
   "outputs": [
    {
     "name": "stdout",
     "output_type": "stream",
     "text": [
      "-- Este loro no va a explotar si le aplicás 1000 voltios.\n",
      "-- Gran plumaje tiene el Azul Nordico\n",
      "-- Está muerto !\n"
     ]
    }
   ],
   "source": [
    "loro(tension=1000)  # 1 argumento nombrado, palabra clave"
   ]
  },
  {
   "cell_type": "code",
   "execution_count": 26,
   "id": "ready-hardwood",
   "metadata": {},
   "outputs": [
    {
     "name": "stdout",
     "output_type": "stream",
     "text": [
      "-- Este loro no va a BOOOOOM si le aplicás 1000000 voltios.\n",
      "-- Gran plumaje tiene el Azul Nordico\n",
      "-- Está muerto !\n"
     ]
    }
   ],
   "source": [
    "loro(tension=1000000, accion='BOOOOOM')  # 2 argumentos nombrados"
   ]
  },
  {
   "cell_type": "code",
   "execution_count": 27,
   "id": "north-celtic",
   "metadata": {},
   "outputs": [
    {
     "name": "stdout",
     "output_type": "stream",
     "text": [
      "-- Este loro no va a BOOOOOM si le aplicás 1000000 voltios.\n",
      "-- Gran plumaje tiene el Azul Nordico\n",
      "-- Está muerto !\n"
     ]
    }
   ],
   "source": [
    "loro(accion='BOOOOOM', tension=1000000) # 2 argumentos nombrados, sin orden"
   ]
  },
  {
   "cell_type": "markdown",
   "id": "dependent-bradford",
   "metadata": {},
   "source": [
    "## Referencias\n",
    "\n",
    " * *Numpy User Guide*, https://www.numpy.org/\n",
    "\n",
    " * Scott Shell, *An introduction to Numpy and Scipy*, 2014.\n",
    " \n",
    " * G. Van Rossum. El tutorial de Python. PyAr http://docs.python.org.ar/tutorial/\n",
    "* Datos y variables. 2009\n",
    "* Nogueras, Guillem. Introducción informal a Matlab y Octave. Universidad Politecnica de Madrid, 2007\n",
    "* Massimo Di Pierro. Web2py - Manual de Referencia. Extraido de [www.web2py.com](http://www.web2py.com/books/default/chapter/36/02/el-lenguaje-python), 2018.\n",
    "* Eugenia Bahit. Python para principiante. Extraido de [Libros Web](http://librosweb.es/libro/python/), 2018.\n",
    "* INTI - Electrónica e Informática, UT Comunicaciones. Introducción al Procesamiento Digital de Señales, 2017."
   ]
  },
  {
   "cell_type": "markdown",
   "id": "close-supplier",
   "metadata": {},
   "source": [
    "## Licencia\n",
    "\n",
    "<a rel=\"license\" href=\"http://creativecommons.org/licenses/by-sa/4.0/\"><img alt=\"Licencia de Creative Commons\" style=\"border-width:0\" src=\"https://i.creativecommons.org/l/by-sa/4.0/88x31.png\" /></a><br />Este documento se destribuye con una <a rel=\"license\" href=\"http://creativecommons.org/licenses/by-sa/4.0/\">licencia Atribución CompartirIgual 4.0 Internacional de Creative Commons</a>.\n",
    "\n",
    "© 2021. Señales y Sistemas, UNTREF. Apuntes de Python3 (CC BY-SA 4.0))"
   ]
  },
  {
   "cell_type": "markdown",
   "id": "honest-praise",
   "metadata": {},
   "source": [
    "* mas numpy arrays\n",
    "* control de flujo\n",
    "* funciones"
   ]
  }
 ],
 "metadata": {
  "kernelspec": {
   "display_name": "Python 3",
   "language": "python",
   "name": "python3"
  },
  "language_info": {
   "codemirror_mode": {
    "name": "ipython",
    "version": 3
   },
   "file_extension": ".py",
   "mimetype": "text/x-python",
   "name": "python",
   "nbconvert_exporter": "python",
   "pygments_lexer": "ipython3",
   "version": "3.8.0"
  }
 },
 "nbformat": 4,
 "nbformat_minor": 5
}

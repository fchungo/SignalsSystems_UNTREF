{
 "cells": [
  {
   "cell_type": "markdown",
   "id": "lesbian-particular",
   "metadata": {},
   "source": [
    "## Practica 2 \n",
    "\n",
    "### Introduccion\n",
    "\n",
    "En esta guía se omitirán las explicaciones del uso de las funciones empleadas en la práctica, use el comando `help`.\n",
    "\n",
    "### Objetivos\n",
    "\n",
    "* Comprender como se simulan señales continuas y discretas en el tiempo usando Python \n",
    "*  \n",
    "* Generar señales exponenciales, sinusoidales, cuadrada, diente de sierra y escalón, visualizarlas en forma continua y discreta.\n",
    "* Revisar las diferentes modalidades que existen para graficar una señal.\n",
    "* Manipular una determinada señal como por ejemplo “voltearla” o rebatirla y/o  desplazarla en tiempo.\n",
    "* Realizar cálculos de energía y potencia de esas señales."
   ]
  },
  {
   "cell_type": "markdown",
   "id": "broad-truth",
   "metadata": {},
   "source": [
    "### Señales continuas"
   ]
  },
  {
   "cell_type": "markdown",
   "id": "trained-puzzle",
   "metadata": {},
   "source": [
    "#### Parte 1\n",
    "\n",
    "Para comenzar cree una copia de este archivo, al cual llamará Practica2UNTREF. Irá colocando las instrucciones que se le especifican más abajo.\n",
    "Escriba cada instrucción, o grupos de instrucciones, y ejecútelas para ver su funcionamiento. Debe utilizar Jupyter Notebooks con este código para poder correrlo por celdas o secciones.\n",
    "\n",
    "Antes de obtener una señal continua en el tiempo, primero se debe crear un vector que represente la secuencia temporal, teniendo el cuidado de elegir un espaciamiento entre muestras apropiado. Por ejemplo para generar señales en el intervalo de tiempo, con muestras tomadas cada $0.05 s$, escriba en la línea de comandos:\n",
    "Antes de obtener una señal continua en el tiempo, primero se debe crear un vector que represente  la  secuencia  temporal, teniendo el cuidado de elegir un espaciamiento entre muestras apropiado. Por  ejemplo  para  generar  señales en el intervalo de tiempo , con muestras tomadas cada 0.05 s, escriba en la línea de comandos:\n",
    "\n",
    "```\n",
    "T = 0.05\n",
    "```"
   ]
  },
  {
   "cell_type": "markdown",
   "id": "ceramic-prize",
   "metadata": {},
   "source": [
    "Este valor define la separación temporal (en segundos) entre las muestras. Exprese la secuencia temporal que va desde -1 a 1, en pasos T:\n",
    "\n",
    "```py\n",
    "t = np.arange(-1, 1+T, T)\n",
    "```"
   ]
  },
  {
   "cell_type": "markdown",
   "id": "southeast-writing",
   "metadata": {},
   "source": [
    "Observe que para representar el rango entre $-1$ y $1$ colocamos $1+T$ como fin del intervalo. Esto se hace para que efectivamente nuestro vector termine su intervalo en $1$. Si se colocase `t = np.arange(-1, 1, T)`, el vector terminarìa en `1-T`. \n",
    "Para generar la función real decreciente x(t)=e-t, escriba:\n",
    "`x = np.exp(-t)`"
   ]
  },
  {
   "cell_type": "markdown",
   "id": "continent-jefferson",
   "metadata": {},
   "source": [
    "Dibuje x(t) vs. t:\n",
    "\n",
    "```\n",
    "plt.plot(t,x,'-r')\n",
    "```"
   ]
  },
  {
   "cell_type": "markdown",
   "id": "decent-nigeria",
   "metadata": {},
   "source": [
    "La expresión anterior es equivalente a realizar\n",
    "\n",
    "```\n",
    "plt.plot(t, x, color='red', style='solid')\n",
    "```\n",
    "\n",
    "Pruebe diferentes trazas usando esta [referencia](https://matplotlib.org/3.1.0/gallery/lines_bars_and_markers/linestyles.html) de matplotlib."
   ]
  },
  {
   "cell_type": "code",
   "execution_count": null,
   "id": "received-armstrong",
   "metadata": {},
   "outputs": [],
   "source": []
  },
  {
   "cell_type": "markdown",
   "id": "conditional-opposition",
   "metadata": {},
   "source": [
    "#### Parte 2\n",
    "\n",
    "Calcule y grafique las siguientes funciones con cambios lineales en la escala temporal: \n",
    "\n",
    "* $x_1(t)=e^{-2t}$\n",
    "* $x_2(t)=e^{-t/2}$ \n",
    "\n",
    "Dibújelas junto a la señal original $x(t)$.\n",
    "\n",
    "Para graficar dos señales en el mismo gráfico, basta con usar esta expresión:\n",
    "\n",
    "`plot(t, x1, '-r', t, x2, '--g')`\n"
   ]
  },
  {
   "cell_type": "code",
   "execution_count": null,
   "id": "interesting-northeast",
   "metadata": {},
   "outputs": [],
   "source": []
  },
  {
   "cell_type": "markdown",
   "id": "passing-excerpt",
   "metadata": {},
   "source": [
    "Proceda de igual manera para la señal $x_3(t) = e^{-2|t|}$. El valor absoluto de $t$ se calcula con el comando:\n",
    "`abs(t)`"
   ]
  },
  {
   "cell_type": "code",
   "execution_count": null,
   "id": "dominant-triple",
   "metadata": {},
   "outputs": [],
   "source": []
  },
  {
   "cell_type": "markdown",
   "id": "criminal-internet",
   "metadata": {},
   "source": [
    "Ahora graficaremos varias señales en una misma figura pero en espacios diferentes. Para eso se divide\n",
    "primero la figura en una matriz de subgráficos de las dimensiones que uno desee. Imagine que\n",
    "queremos graficar 4 funciones. Dividimos la figura como una matriz de $2x2$ (2 filas y 2 columnas) y\n",
    "en cada subgráfico aparecerá una de las señales. Para eso usamos el comando `subplot`, indicando el el número de filas y columnas para luego graficar las señales en el objeto \n"
   ]
  },
  {
   "cell_type": "code",
   "execution_count": 17,
   "id": "solid-record",
   "metadata": {},
   "outputs": [
    {
     "data": {
      "text/plain": [
       "<AxesSubplot:>"
      ]
     },
     "execution_count": 17,
     "metadata": {},
     "output_type": "execute_result"
    },
    {
     "data": {
      "image/png": "[encoded data removed]",
      "text/plain": [
       "<Figure size 432x288 with 4 Axes>"
      ]
     },
     "metadata": {
      "needs_background": "light"
     },
     "output_type": "display_data"
    }
   ],
   "source": [
    "import matplotlib.pyplot as plt\n",
    "\n",
    "plt.subplot(2,2,1)\n",
    "plt.plot([1,2,3])\n",
    "plt.subplot(2,2,2)\n",
    "plt.subplot(2,2,3)\n",
    "plt.plot([3,2,1])\n",
    "plt.subplot(2,2,4)"
   ]
  },
  {
   "cell_type": "code",
   "execution_count": 19,
   "id": "modular-enclosure",
   "metadata": {},
   "outputs": [
    {
     "ename": "ValueError",
     "evalue": "not enough values to unpack (expected 4, got 2)",
     "output_type": "error",
     "traceback": [
      "\u001b[0;31m---------------------------------------------------------------------------\u001b[0m",
      "\u001b[0;31mValueError\u001b[0m                                Traceback (most recent call last)",
      "\u001b[0;32m<ipython-input-19-638f26ad16ec>\u001b[0m in \u001b[0;36m<module>\u001b[0;34m\u001b[0m\n\u001b[0;32m----> 1\u001b[0;31m \u001b[0;34m(\u001b[0m\u001b[0max1\u001b[0m\u001b[0;34m,\u001b[0m \u001b[0max2\u001b[0m\u001b[0;34m,\u001b[0m \u001b[0max3\u001b[0m\u001b[0;34m,\u001b[0m \u001b[0max4\u001b[0m\u001b[0;34m)\u001b[0m \u001b[0;34m=\u001b[0m \u001b[0mplt\u001b[0m\u001b[0;34m.\u001b[0m\u001b[0msubplots\u001b[0m\u001b[0;34m(\u001b[0m\u001b[0;36m2\u001b[0m\u001b[0;34m,\u001b[0m\u001b[0;36m2\u001b[0m\u001b[0;34m)\u001b[0m\u001b[0;34m\u001b[0m\u001b[0;34m\u001b[0m\u001b[0m\n\u001b[0m",
      "\u001b[0;31mValueError\u001b[0m: not enough values to unpack (expected 4, got 2)"
     ]
    },
    {
     "data": {
      "image/png": "[encoded data removed]",
      "text/plain": [
       "<Figure size 432x288 with 4 Axes>"
      ]
     },
     "metadata": {
      "needs_background": "light"
     },
     "output_type": "display_data"
    }
   ],
   "source": [
    "(ax1, ax2, ax3, ax4) = plt.subplots(2,2)"
   ]
  },
  {
   "cell_type": "markdown",
   "id": "distant-madagascar",
   "metadata": {},
   "source": [
    "Para generar una señal exponencial compleja $y(t)=e^{-j2\\pi t}$ escriba en la línea de comandos:\n",
    "`y = np.exp(2j*np.pi*t)`"
   ]
  },
  {
   "cell_type": "code",
   "execution_count": null,
   "id": "duplicate-council",
   "metadata": {},
   "outputs": [],
   "source": []
  },
  {
   "cell_type": "markdown",
   "id": "planned-assistant",
   "metadata": {},
   "source": [
    "La señal $y$ es compleja, a diferencia de las señales anteriores. Para comprobarlo escriba `type(y)`"
   ]
  },
  {
   "cell_type": "code",
   "execution_count": null,
   "id": "medical-introduction",
   "metadata": {},
   "outputs": [],
   "source": []
  },
  {
   "cell_type": "markdown",
   "id": "boxed-ontario",
   "metadata": {},
   "source": [
    "Para observar las partes real e imaginaria de $y$, usamos el comando `plot` pasando como argumento `t, np.real(y), t, np.imag(y)`"
   ]
  },
  {
   "cell_type": "code",
   "execution_count": null,
   "id": "divided-jason",
   "metadata": {},
   "outputs": [],
   "source": []
  },
  {
   "cell_type": "markdown",
   "id": "moving-montana",
   "metadata": {},
   "source": [
    "Las sinusoides reales también pueden ser generadas a partir de **numpy**, con las funciones `np.sin` y `np.cos`.\n",
    "Pruebe generar dos señales con los siguientes comandos:\n",
    "\n",
    "```\n",
    "s1 = np.sin(np.pi*t - np.pi/6)\n",
    "s2 = np.cos(np.pi*t + np.pi/4)\n",
    "```"
   ]
  },
  {
   "cell_type": "code",
   "execution_count": null,
   "id": "national-antique",
   "metadata": {},
   "outputs": [],
   "source": []
  },
  {
   "cell_type": "code",
   "execution_count": null,
   "id": "magnetic-profit",
   "metadata": {},
   "outputs": [],
   "source": []
  },
  {
   "cell_type": "code",
   "execution_count": null,
   "id": "automatic-quilt",
   "metadata": {},
   "outputs": [],
   "source": [
    "# Importamos librerias necesarias\n",
    "import numpy as np\n",
    "from matplotlib import pyplot as plt\n",
    "from scipy import signal"
   ]
  },
  {
   "cell_type": "code",
   "execution_count": null,
   "id": "retained-shirt",
   "metadata": {},
   "outputs": [],
   "source": []
  }
 ],
 "metadata": {
  "kernelspec": {
   "display_name": "Python 3",
   "language": "python",
   "name": "python3"
  },
  "language_info": {
   "codemirror_mode": {
    "name": "ipython",
    "version": 3
   },
   "file_extension": ".py",
   "mimetype": "text/x-python",
   "name": "python",
   "nbconvert_exporter": "python",
   "pygments_lexer": "ipython3",
   "version": "3.8.0"
  }
 },
 "nbformat": 4,
 "nbformat_minor": 5
}

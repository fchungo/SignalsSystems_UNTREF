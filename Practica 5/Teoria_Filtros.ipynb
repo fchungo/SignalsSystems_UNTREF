{
 "cells": [
  {
   "cell_type": "markdown",
   "id": "failing-tunisia",
   "metadata": {},
   "source": [
    "## UNTREF\n",
    "## INGENIERIA DE SONIDO\n",
    "## SEÑALES Y SISTEMAS \n",
    "            \n",
    "                        \n",
    "# Introducción teórica a los filtros de señales\n",
    "\n"
   ]
  },
  {
   "cell_type": "markdown",
   "id": "distinguished-north",
   "metadata": {},
   "source": [
    "## RESPUESTA EN FRECUENCIA\n",
    "\n",
    "La Respuesta en Frecuencia o Función Transferencia de un sistema se define como:\n",
    "\n",
    "\\begin{equation}\\label{Ec1}\n",
    "    H(jw) = \\frac{y(t)}{x(t)} \\Leftrightarrow x(t) = e^{jwt}\n",
    "\\end{equation}"
   ]
  },
  {
   "cell_type": "markdown",
   "id": "selective-threshold",
   "metadata": {},
   "source": [
    "Cuando un sistema lineal, definido por H(jω), es alimentado por una sinusoide, la salida es también una sinusoide a la misma frecuencia que la de la excitación pero, en principio, con amplitud y fase distinta a la de la sinusoide de entrada. Matemáticamente será:\n",
    "\n",
    "\\begin{equation}\n",
    "    x(t) = A_x * cos(w_xt + \\theta_x)\n",
    "\\end{equation}\n",
    "\n",
    "\\begin{equation}\n",
    "y(t) = A_x|H(jw_x)|cos(w_xt + \\theta_x + arg(H(jw_x))\n",
    "\\end{equation}\n",
    "\n",
    "    \n",
    " "
   ]
  },
  {
   "cell_type": "markdown",
   "id": "raising-rainbow",
   "metadata": {},
   "source": [
    "A modo de ejemplo, imaginemos que tenemos un sistema lineal con \n",
    "\n",
    "\\begin{equation}\n",
    "    H(jw) = \\frac{1000}{2000 + jw}\n",
    "\\end{equation}"
   ]
  },
  {
   "cell_type": "markdown",
   "id": "moral-creativity",
   "metadata": {},
   "source": [
    "Imaginemos que a la entrada tenemos una sinusoide "
   ]
  },
  {
   "cell_type": "markdown",
   "id": "historical-cleaners",
   "metadata": {},
   "source": [
    "\\begin{equation}\n",
    "    x(t)=cos(2000 \\cdot t)\n",
    "\\end{equation}\n"
   ]
  },
  {
   "cell_type": "markdown",
   "id": "macro-token",
   "metadata": {},
   "source": [
    "Necesitamos determinar la magnitud y la fase de $H(2000)$"
   ]
  },
  {
   "cell_type": "markdown",
   "id": "centered-thermal",
   "metadata": {},
   "source": [
    "\\begin{equation}\n",
    "    |H(2000)| = \\frac{1000}{|2000 + jw|} = 0.35\n",
    "\\end{equation}\n",
    "\n",
    "\\begin{equation}\n",
    "    arg(H(2000))=-0.78 rad= -45°\n",
    "\\end{equation}"
   ]
  },
  {
   "cell_type": "markdown",
   "id": "infinite-short",
   "metadata": {},
   "source": [
    "Entonces la sinusoide a la salida sería"
   ]
  },
  {
   "cell_type": "markdown",
   "id": "united-rhythm",
   "metadata": {},
   "source": [
    "\\begin{equation}\n",
    "    y(t) = 0.35 \\cdot cos(2000 \\cdot t-0.78) = 0.35 \\cdot cos(2000 \\cdot t-45°)\n",
    "\\end{equation}"
   ]
  },
  {
   "cell_type": "markdown",
   "id": "critical-taxation",
   "metadata": {},
   "source": [
    "## FILTROS ANALÓGICOS\n",
    "\n",
    "En el área de comunicaciones, el análisis en el dominio de la frecuencia es fundamental. El contenido en frecuencia de una cierta transmisión resulta ser la característica más importante de la misma. Por ejemplo, si queremos sintonizar una emisora determinada como FM 99.9, sabemos que, de alguna forma, debe haber una selección de la banda de interés. Esta selección se le conoce también como filtraje y son los filtros los dispositivos que lo logran. Los filtros se representan con su función transferencia $H(jω)$ o $H(f)$, la cual es compleja y se puede expresar en base a su magnitud y su fase."
   ]
  },
  {
   "cell_type": "markdown",
   "id": "interim-liabilities",
   "metadata": {},
   "source": [
    "\\begin{equation}\n",
    "    H(jω) = |H(jω)|e^{j(arg{H(jω)})} \n",
    "\\end{equation}\n",
    "\n",
    "\n"
   ]
  },
  {
   "cell_type": "markdown",
   "id": "failing-local",
   "metadata": {},
   "source": [
    "Los filtros ideales tienen magnitud constante no nula en la banda pasante (o banda de frecuencias de la señal de entrada que permite el filtro pasar a la salida) y nula fuera de esta, tal y como se muestra en la Figura 1.\n",
    "\n",
    "![filtros_ideales](imagenes/filtro_ideal.png)\n",
    "\n",
    "**Figura 1**. Respuestas en frecuencia de filtros ideales\n",
    "a) Pasabajo; b) Pasaalto c) Pasabanda y d) Eliminabanda.\n",
    "\n",
    "\n",
    "\n",
    "Por otra parte la fase de un filtro ideal, como se puede demostrar usando propiedades de la Transformada de Fourier,  debe variar linealmente con la frecuencia para evitar distorsiones en la señal de salida, es decir:\n",
    "\n",
    "\\begin{equation}\n",
    "    arg H(jω) =-αω+kπ\n",
    "\\end{equation}"
   ]
  },
  {
   "cell_type": "markdown",
   "id": "short-pakistan",
   "metadata": {},
   "source": [
    "En la práctica es imposible conseguir las características de magnitud y fase arriba mencionadas, ya que eso estaría asociado a filtros no causales, es decir sistemas que responden antes de que sean excitados. Por ejemplo, las transiciones de la Magnitud de H(f) en los filtros reales son más suaves como puede observarse en la Figura 2:\n",
    "\n",
    "![filtros_reales](imagenes/filtro_real.png)\n",
    "\n",
    "**Figura 2**. Respuestas en frecuencia de filtros reales.\n",
    " a) Pasabajo; b) Pasaalto c) Pasabanda y d) Eliminabanda.\n"
   ]
  },
  {
   "cell_type": "markdown",
   "id": "cardiovascular-directive",
   "metadata": {},
   "source": [
    "En la práctica se emplean ciertos tipos de respuestas típicas asociadas a filtros llamados **Butterworth**, **Chebyshev I y II** (Chebyshev Inverso), **Elípticos** o **Bessel**. En la Figura 4 se observan modelos de respuestas pasabajo para cada uno: El Butterworth se caracteriza por tener respuesta en frecuencia plana en la banda pasante y una zona de transición regular; el Chebyshev I tiene una zona de transición más estrecha pero presenta rizado o ripple en la banda pasante; el Chebyshev II o inverso tiene el rizado o ripple en la banda de rechazo; los filtros elípticos son los que logran una banda de transición más abrupta pero a cambio presentan rizado tanto en la banda pasante como en la banda de rechazo.\n",
    "\n",
    "![tipo_filtro](imagenes/tipo_filtros.png)\n",
    "\n",
    "**Figura 4.** Respuesta en frecuencia de filtros pasabajo\n",
    "tipo Butterworth, Chebyshev I y II y Elíptico\n"
   ]
  },
  {
   "cell_type": "markdown",
   "id": "bibliographic-positive",
   "metadata": {},
   "source": [
    "Para diseñar un filtro analógico primero hay que definir las condiciones que debe cumplir el filtro: Estas especificaciones tienen que ver con las frecuencias de las bandas de paso y de rechazo, las ganancias en cada banda, el máximo rizado permitido en dichas bandas y, en algunos casos, la frecuencia de corte donde la potencia cae a la mitad (o potencia de 3 dB). En la Figura 5 se observa la respuesta general de un filtro pasabajo en la cual se definen las ganancias, bandas y frecuencias de interés. Las ganancias, generalmente, se representan en forma logarítmica pero también se pueden expresar en forma lineal tal como en esta misma figura. En este caso se trata de filtros llamados pasivos en los cuales la máxima ganancia que ocurre (en la banda pasante) es unitaria. \n",
    "La respuesta en frecuencia de los filtros analógicos de orden n puede expresarse como una relación entre dos polinomios de (jω) como sigue:\n",
    "\n",
    "\n",
    "\\begin{equation}\n",
    "    H(jw) = \\frac{b_1(jw)^n + b_2(jw)^{n-1}+..+b_{n+1}}{(jw)^n + a_2(jw)^{n-1}+..+a(n+1)}\n",
    "\\end{equation}"
   ]
  },
  {
   "cell_type": "markdown",
   "id": "planned-collapse",
   "metadata": {},
   "source": [
    "Donde las constantes $b_i$ y $a_i$ definen la naturaleza del filtro.\n"
   ]
  },
  {
   "cell_type": "markdown",
   "id": "extreme-vampire",
   "metadata": {},
   "source": [
    "![](imagenes/bandas_filtro.png)\n",
    "\n",
    "**Figura 5.** Respuesta en frecuencia general de un filtro Pasa-bajos\n",
    "Sin embargo, cuando se trabaja en un computador,  hay que digitalizar, es decir, muestrear y cuantificar los valores de las funciones (señales o características de los sistemas). En este caso, realmente estaríamos trabajando con filtros digitales. La respuesta en frecuencia de un filtro de orden n  puede expresarse como una relación entre dos polinomios de (jω)\n"
   ]
  },
  {
   "cell_type": "markdown",
   "id": "featured-ranking",
   "metadata": {},
   "source": [
    "En Python se pueden diseñar filtros Butterworth o Chebyshev muy fácilmente: Por ejemplo, si quiere diseñar un filtro Butterworth pasabajo de orden 2 y frecuencia de corte de 30 Hz, con frecuencia de muestreo es 240 Hz, se puede usar las siguientes funciones para diseñar filtros del paquete **signal** de **scipy**.\n"
   ]
  },
  {
   "cell_type": "code",
   "execution_count": 18,
   "id": "unable-coordinator",
   "metadata": {},
   "outputs": [],
   "source": [
    "from scipy import signal\n",
    "import matplotlib.pyplot as plt\n",
    "import numpy as np\n",
    "\n",
    "fs = 240  # frecuencia de muestreo\n",
    "fc =30   # frecuencia de corte del filtro\n",
    "fc = fc/(0.5*fs)   # frecuencia de corte normalizada\n",
    "N = 5  # orden del filtro\n",
    "# se calculan los coeficientes del un filtro pasabajo (btype='low')\n",
    "[b,a] = signal.butter(N, fc, btype='low') "
   ]
  },
  {
   "cell_type": "markdown",
   "id": "million-paraguay",
   "metadata": {},
   "source": [
    "Cuando se revisan los valores de las constantes b y de a se observa:"
   ]
  },
  {
   "cell_type": "code",
   "execution_count": 19,
   "id": "compatible-question",
   "metadata": {},
   "outputs": [
    {
     "name": "stdout",
     "output_type": "stream",
     "text": [
      "[0.00327922 0.01639608 0.03279216 0.03279216 0.01639608 0.00327922]\n",
      "[ 1.         -2.47441617  2.81100631 -1.70377224  0.54443269 -0.07231567]\n"
     ]
    }
   ],
   "source": [
    "print(b)\n",
    "print(a)"
   ]
  },
  {
   "cell_type": "markdown",
   "id": "overall-eight",
   "metadata": {},
   "source": [
    "Luego se usa la función `freqz` para obtener $H$ complejo y su vector de frecuencia $wn$ (esta va entre 0 y π como lo hacen las frecuencias digitales). Queremos graficar, la magnitud de H en escala logarítmica vs. f en Hz. Hay que convertir la frecuencia wn a Hz, multiplicando por $fs/2$ y dividiendo entre π. Para obtener la magnitud se calcula `abs(H)`, mientras que para la fase se determina el `arctan(imag(H),real(H))`"
   ]
  },
  {
   "cell_type": "code",
   "execution_count": 21,
   "id": "junior-equivalent",
   "metadata": {},
   "outputs": [
    {
     "data": {
      "image/png": "[encoded data removed]",
      "text/plain": [
       "<Figure size 432x288 with 1 Axes>"
      ]
     },
     "metadata": {
      "needs_background": "light"
     },
     "output_type": "display_data"
    },
    {
     "data": {
      "image/png": "[encoded data removed]",
      "text/plain": [
       "<Figure size 432x288 with 1 Axes>"
      ]
     },
     "metadata": {
      "needs_background": "light"
     },
     "output_type": "display_data"
    }
   ],
   "source": [
    "wn, H = signal.freqz(b,a)\n",
    "f= wn*(0.5*fs)/np.pi\n",
    "plt.figure ()\n",
    "# #La magnitud de H se grafica usualmente en forma logarítmica\n",
    "plt.plot(f, 20 * np.log10(abs(H)))\n",
    "plt.ylabel('Mag( dB )')\n",
    "plt.xlabel('Frecuencia en Hz')\n",
    "plt.xlim(0, 100)\n",
    "plt.title('Magnitud de H')\n",
    "plt.ylabel('Mag( dB )')\n",
    "plt.grid()\n",
    "#H_Fase = np.unwrap(np.arctan2(np.imag(H),np.real(H)))\n",
    "H_Fase = np.unwrap(np.arctan2(np.imag(H),np.real(H)))\n",
    "plt.figure ()\n",
    "plt.plot(f, H_Fase)\n",
    "plt.ylabel('Fase (radianes)')\n",
    "plt.xlabel('Frecuencia en Hz')\n",
    "plt.title('Fase de la Respuesta en Frecuencia')\n",
    "plt.grid()\n"
   ]
  },
  {
   "cell_type": "markdown",
   "id": "progressive-copyright",
   "metadata": {},
   "source": [
    "**Observe que la magnitud está en unidades logarítmicas (dB) y la fase en radianes**\n",
    "\n",
    "Para graficar la respuesta impulsiva se construye un impulso discreto y se hace pasar por el filtro definido por (b,a)\n"
   ]
  },
  {
   "cell_type": "code",
   "execution_count": 29,
   "id": "literary-insurance",
   "metadata": {},
   "outputs": [
    {
     "data": {
      "text/plain": [
       "<StemContainer object of 3 artists>"
      ]
     },
     "execution_count": 29,
     "metadata": {},
     "output_type": "execute_result"
    },
    {
     "data": {
      "image/png": "[encoded data removed]",
      "text/plain": [
       "<Figure size 432x288 with 1 Axes>"
      ]
     },
     "metadata": {
      "needs_background": "light"
     },
     "output_type": "display_data"
    }
   ],
   "source": [
    "n = np.arange(0,100)\n",
    "impulse = np.zeros(np.size(n))\n",
    "impulse[0] =1.\n",
    "response = signal.lfilter(b, a, impulse)\n",
    "plt.figure()\n",
    "plt.stem(n,response[0:100])\n"
   ]
  }
 ],
 "metadata": {
  "kernelspec": {
   "display_name": "Python 3",
   "language": "python",
   "name": "python3"
  },
  "language_info": {
   "codemirror_mode": {
    "name": "ipython",
    "version": 3
   },
   "file_extension": ".py",
   "mimetype": "text/x-python",
   "name": "python",
   "nbconvert_exporter": "python",
   "pygments_lexer": "ipython3",
   "version": "3.8.0"
  }
 },
 "nbformat": 4,
 "nbformat_minor": 5
}
